{
 "cells": [
  {
   "cell_type": "markdown",
   "id": "prostate-citizenship",
   "metadata": {},
   "source": [
    "## Pandas Series"
   ]
  },
  {
   "cell_type": "code",
   "execution_count": 2,
   "id": "proved-contributor",
   "metadata": {},
   "outputs": [],
   "source": [
    "## Importing Pandas\n",
    "import pandas as pd\n",
    "import numpy as np"
   ]
  },
  {
   "cell_type": "code",
   "execution_count": 2,
   "id": "proud-alignment",
   "metadata": {},
   "outputs": [
    {
     "name": "stdout",
     "output_type": "stream",
     "text": [
      "Pandas series from List\n",
      " 0    23\n",
      "1    54\n",
      "2    87\n",
      "3    91\n",
      "4    34\n",
      "5    65\n",
      "dtype: int64\n"
     ]
    }
   ],
   "source": [
    "## Creating a pandas series from a list\n",
    "s1 = pd.Series([23, 54, 87, 91, 34, 65])\n",
    "\n",
    "## Printing the series\n",
    "print(\"Pandas series from List\\n\",s1)"
   ]
  },
  {
   "cell_type": "code",
   "execution_count": 6,
   "id": "moderate-virginia",
   "metadata": {},
   "outputs": [
    {
     "name": "stdout",
     "output_type": "stream",
     "text": [
      "Pandas series from an Array\n",
      " 0    23\n",
      "1    54\n",
      "2    87\n",
      "3    91\n",
      "4    34\n",
      "5    65\n",
      "dtype: int32\n"
     ]
    }
   ],
   "source": [
    "## Creating a pandas series from an array\n",
    "s1 = pd.Series(np.array([23, 54, 87, 91, 34, 65]))\n",
    "\n",
    "## Printing the series\n",
    "print(\"Pandas series from an Array\\n\",s1)"
   ]
  },
  {
   "cell_type": "code",
   "execution_count": 11,
   "id": "asian-brave",
   "metadata": {},
   "outputs": [
    {
     "data": {
      "text/plain": [
       "0     15000\n",
       "2    250000\n",
       "4     45000\n",
       "6     24000\n",
       "8     34000\n",
       "dtype: int32"
      ]
     },
     "execution_count": 11,
     "metadata": {},
     "output_type": "execute_result"
    }
   ],
   "source": [
    "## Creating a pandas series with numeric index\n",
    "salaries_index = pd.Series(np.array([15000, 250000, 45000, 24000, 34000]), index=np.arange(0,10,2))\n",
    "\n",
    "## Printing the series\n",
    "salaries_index"
   ]
  },
  {
   "cell_type": "code",
   "execution_count": 12,
   "id": "addressed-intent",
   "metadata": {},
   "outputs": [
    {
     "data": {
      "text/plain": [
       "a1     15000\n",
       "a2    250000\n",
       "a3     45000\n",
       "a4     24000\n",
       "a5     34000\n",
       "dtype: int32"
      ]
     },
     "execution_count": 12,
     "metadata": {},
     "output_type": "execute_result"
    }
   ],
   "source": [
    "## Creating a pandas series with string index\n",
    "salaries_index = pd.Series(np.array([15000, 250000, 45000, 24000, 34000]), \n",
    "                           index=['a1','a2','a3','a4','a5']\n",
    "                          )\n",
    "\n",
    "## Printing the series\n",
    "salaries_index"
   ]
  },
  {
   "cell_type": "code",
   "execution_count": 14,
   "id": "naughty-thread",
   "metadata": {},
   "outputs": [
    {
     "data": {
      "text/plain": [
       "Fruits        50000\n",
       "Vegetables    23400\n",
       "Pulses        23900\n",
       "dtype: int64"
      ]
     },
     "execution_count": 14,
     "metadata": {},
     "output_type": "execute_result"
    }
   ],
   "source": [
    "## Creating Pandas Series from a dictionary\n",
    "proddict = {\"Fruits\":50000, 'Vegetables':23400,'Pulses':23900}\n",
    "\n",
    "## Creating series from dictionary\n",
    "prodseries = pd.Series(proddict)\n",
    "\n",
    "prodseries"
   ]
  },
  {
   "cell_type": "markdown",
   "id": "laughing-major",
   "metadata": {},
   "source": [
    "The keys of a dictionary become an index for the series"
   ]
  },
  {
   "cell_type": "code",
   "execution_count": 5,
   "id": "august-competition",
   "metadata": {},
   "outputs": [
    {
     "name": "stdout",
     "output_type": "stream",
     "text": [
      "(977, 325, 600, 625, 371, 142, 440, 791, 593, 439)\n",
      "0    977\n",
      "1    325\n",
      "2    600\n",
      "3    625\n",
      "4    371\n",
      "5    142\n",
      "6    440\n",
      "7    791\n",
      "8    593\n",
      "9    439\n",
      "dtype: int64\n"
     ]
    }
   ],
   "source": [
    "t1 = tuple(np.random.randint(100,1000, 10))\n",
    "print(t1)\n",
    "p1 = pd.Series(t1)\n",
    "print(p1)"
   ]
  },
  {
   "cell_type": "code",
   "execution_count": 16,
   "id": "national-portuguese",
   "metadata": {},
   "outputs": [
    {
     "data": {
      "text/plain": [
       "X    [Maths, English, Computers]\n",
       "Y           [Computers, Science]\n",
       "Z                        Science\n",
       "dtype: object"
      ]
     },
     "execution_count": 16,
     "metadata": {},
     "output_type": "execute_result"
    }
   ],
   "source": [
    "## Creating class dictionary\n",
    "classdict = {'X':['Maths','English','Computers'],\n",
    "             'Y':['Computers','Science'],\n",
    "             'Z':\"Science\"}\n",
    "\n",
    "## Creating series from dictionary\n",
    "class_series = pd.Series(classdict)\n",
    "\n",
    "class_series"
   ]
  },
  {
   "cell_type": "code",
   "execution_count": 22,
   "id": "hundred-jamaica",
   "metadata": {},
   "outputs": [
    {
     "name": "stdout",
     "output_type": "stream",
     "text": [
      "The Index names\n",
      "Index(['X', 'Y', 'Z'], dtype='object')\n",
      "\n",
      "The Series Values\n"
     ]
    },
    {
     "data": {
      "text/plain": [
       "array([list(['Maths', 'English', 'Computers']),\n",
       "       list(['Computers', 'Science']), 'Science'], dtype=object)"
      ]
     },
     "execution_count": 22,
     "metadata": {},
     "output_type": "execute_result"
    }
   ],
   "source": [
    "## Printing the index names\n",
    "print(\"The Index names\")\n",
    "print(class_series.index)\n",
    "\n",
    "##  Printing the Series values\n",
    "print(\"\\nThe Series Values\")\n",
    "class_series.values"
   ]
  },
  {
   "cell_type": "markdown",
   "id": "banned-congo",
   "metadata": {},
   "source": [
    "#### Accessing Series Elements"
   ]
  },
  {
   "cell_type": "code",
   "execution_count": 23,
   "id": "floral-tuning",
   "metadata": {},
   "outputs": [],
   "source": [
    "## Creating a pandas series with string index\n",
    "salaries_index = pd.Series(np.array([15000, 250000, 45000, 24000, 34000, 75000]), \n",
    "                           index=['a1','a2','a3','a4','a5','a6']\n",
    "                          )"
   ]
  },
  {
   "cell_type": "code",
   "execution_count": 24,
   "id": "considerable-cigarette",
   "metadata": {},
   "outputs": [
    {
     "name": "stdout",
     "output_type": "stream",
     "text": [
      "a1     15000\n",
      "a2    250000\n",
      "a3     45000\n",
      "a4     24000\n",
      "a5     34000\n",
      "dtype: int32\n"
     ]
    }
   ],
   "source": [
    "## To retrieve first 5 elements\n",
    "print(salaries_index[:5])"
   ]
  },
  {
   "cell_type": "code",
   "execution_count": 25,
   "id": "first-project",
   "metadata": {},
   "outputs": [
    {
     "name": "stdout",
     "output_type": "stream",
     "text": [
      "a4    24000\n",
      "a5    34000\n",
      "a6    75000\n",
      "dtype: int32\n"
     ]
    }
   ],
   "source": [
    "## To retrieve last 3 elements\n",
    "print(salaries_index[-3:])"
   ]
  },
  {
   "cell_type": "code",
   "execution_count": 30,
   "id": "foster-dealer",
   "metadata": {},
   "outputs": [
    {
     "name": "stdout",
     "output_type": "stream",
     "text": [
      "['Maths', 'English', 'Computers']\n",
      "X    [Maths, English, Computers]\n",
      "Y           [Computers, Science]\n",
      "dtype: object\n"
     ]
    }
   ],
   "source": [
    "## Creating class dictionary\n",
    "classdict = {'X':['Maths','English','Computers'],\n",
    "             'Y':['Computers','Science'],\n",
    "             'Z':\"Science\"}\n",
    "\n",
    "\n",
    "## Creating series from dictionary\n",
    "class_series = pd.Series(classdict)\n",
    "\n",
    "## Printing class_series\n",
    "\n",
    "## Accessing elements using index\n",
    "print(class_series['X'])\n",
    "\n",
    "## Accessing multiple elements\n",
    "print(class_series[['X','Y']])"
   ]
  },
  {
   "cell_type": "code",
   "execution_count": 33,
   "id": "mental-swaziland",
   "metadata": {},
   "outputs": [
    {
     "data": {
      "text/plain": [
       "Anand     450\n",
       "Akshay    292\n",
       "Chetan    326\n",
       "Vikram    435\n",
       "Vivek     289\n",
       "Jyothi    478\n",
       "dtype: int64"
      ]
     },
     "execution_count": 33,
     "metadata": {},
     "output_type": "execute_result"
    }
   ],
   "source": [
    "## Creating Student_marks Series\n",
    "stu_marks = pd.Series([450,292, 326, 435, 289, 478],\n",
    "                    index = ['Anand','Akshay','Chetan','Vikram','Vivek','Jyothi'])\n",
    "stu_marks"
   ]
  },
  {
   "cell_type": "code",
   "execution_count": 34,
   "id": "opening-profession",
   "metadata": {},
   "outputs": [
    {
     "data": {
      "text/plain": [
       "Anand     450\n",
       "Chetan    326\n",
       "Vikram    435\n",
       "Jyothi    478\n",
       "dtype: int64"
      ]
     },
     "execution_count": 34,
     "metadata": {},
     "output_type": "execute_result"
    }
   ],
   "source": [
    "## Filtering the series\n",
    "stu_marks[stu_marks > 300]"
   ]
  },
  {
   "cell_type": "markdown",
   "id": "complimentary-jaguar",
   "metadata": {},
   "source": [
    "#### Arithmetic Operations on Series"
   ]
  },
  {
   "cell_type": "code",
   "execution_count": 35,
   "id": "interesting-package",
   "metadata": {},
   "outputs": [
    {
     "name": "stdout",
     "output_type": "stream",
     "text": [
      "0    7512\n",
      "1    8070\n",
      "2    9735\n",
      "dtype: int64\n"
     ]
    }
   ],
   "source": [
    "## Creating series\n",
    "sales = pd.Series([2504, 2690, 3245])\n",
    "\n",
    "## Multiplying the series by 3\n",
    "print(sales * 3)"
   ]
  },
  {
   "cell_type": "code",
   "execution_count": 36,
   "id": "ignored-syndication",
   "metadata": {},
   "outputs": [
    {
     "data": {
      "text/plain": [
       "0     2904\n",
       "1    11084\n",
       "2     8036\n",
       "dtype: int64"
      ]
     },
     "execution_count": 36,
     "metadata": {},
     "output_type": "execute_result"
    }
   ],
   "source": [
    "## ELementwise Multiplication\n",
    "mrp_series = pd.Series([12,34,28])\n",
    "sales_series = pd.Series([242, 326, 287])\n",
    "\n",
    "## Computing Total Sales Series\n",
    "total_sales = mrp_series.multiply(sales_series)\n",
    "\n",
    "total_sales"
   ]
  },
  {
   "cell_type": "code",
   "execution_count": 6,
   "id": "friendly-ethernet",
   "metadata": {},
   "outputs": [
    {
     "data": {
      "text/plain": [
       "0     2904\n",
       "1    11084\n",
       "2     8036\n",
       "dtype: int64"
      ]
     },
     "execution_count": 6,
     "metadata": {},
     "output_type": "execute_result"
    }
   ],
   "source": [
    "## ELementwise Multiplication\n",
    "mrp_series = pd.Series([12,34,28])\n",
    "sales_series = pd.Series([242, 326, 287])\n",
    "\n",
    "## Computing Total Sales Series\n",
    "total_sales = mrp_series * sales_series\n",
    "\n",
    "total_sales\n"
   ]
  },
  {
   "cell_type": "code",
   "execution_count": 38,
   "id": "loose-prayer",
   "metadata": {},
   "outputs": [
    {
     "data": {
      "text/plain": [
       "0    181\n",
       "1    168\n",
       "2    183\n",
       "dtype: int64"
      ]
     },
     "execution_count": 38,
     "metadata": {},
     "output_type": "execute_result"
    }
   ],
   "source": [
    "## Addition of two series\n",
    "maths_marks = pd.Series([89,92,96])\n",
    "english_marks = pd.Series([92,76,87])\n",
    "\n",
    "## Adding two series\n",
    "total_marks = maths_marks + english_marks\n",
    "\n",
    "total_marks"
   ]
  },
  {
   "cell_type": "code",
   "execution_count": 39,
   "id": "sticky-climb",
   "metadata": {},
   "outputs": [
    {
     "data": {
      "text/plain": [
       "0    181.0\n",
       "1    168.0\n",
       "2    183.0\n",
       "3      NaN\n",
       "dtype: float64"
      ]
     },
     "execution_count": 39,
     "metadata": {},
     "output_type": "execute_result"
    }
   ],
   "source": [
    "## Suppose there is difference in number of elements in two series\n",
    "## Addition of two series\n",
    "maths_marks = pd.Series([89,92,96])\n",
    "english_marks = pd.Series([92,76,87,65])\n",
    "\n",
    "## Adding two series\n",
    "total_marks = maths_marks + english_marks\n",
    "\n",
    "total_marks"
   ]
  },
  {
   "cell_type": "markdown",
   "id": "historic-liberal",
   "metadata": {},
   "source": [
    "#### Series Ranking and Sorting"
   ]
  },
  {
   "cell_type": "code",
   "execution_count": 7,
   "id": "enclosed-brooklyn",
   "metadata": {},
   "outputs": [
    {
     "data": {
      "text/plain": [
       "0     3.0\n",
       "1     5.0\n",
       "2    10.0\n",
       "3     1.0\n",
       "4     7.0\n",
       "5     8.0\n",
       "6     4.0\n",
       "7     9.0\n",
       "8     6.0\n",
       "9     2.0\n",
       "dtype: float64"
      ]
     },
     "execution_count": 7,
     "metadata": {},
     "output_type": "execute_result"
    }
   ],
   "source": [
    "## Creating a marks Series\n",
    "marks = pd.Series([234,324,982, 125, 465, 764, 257,872,325,198])\n",
    "marks.rank()"
   ]
  },
  {
   "cell_type": "markdown",
   "id": "affiliated-sucking",
   "metadata": {},
   "source": [
    "The rank() will give rank based on the Descending order of elements."
   ]
  },
  {
   "cell_type": "code",
   "execution_count": 8,
   "id": "vocal-vancouver",
   "metadata": {},
   "outputs": [
    {
     "data": {
      "text/plain": [
       "7     1982.0\n",
       "1     2348.0\n",
       "0     2349.0\n",
       "4     3489.0\n",
       "8     3648.0\n",
       "5    23427.0\n",
       "3    23948.0\n",
       "2        NaN\n",
       "6        NaN\n",
       "dtype: float64"
      ]
     },
     "execution_count": 8,
     "metadata": {},
     "output_type": "execute_result"
    }
   ],
   "source": [
    "## Sorting the series using sort_values()\n",
    "sales = pd.Series([2349,2348,np.nan,23948,3489,23427,np.nan,1982,3648])\n",
    "                   \n",
    "sales.sort_values(ascending=True)"
   ]
  },
  {
   "cell_type": "code",
   "execution_count": 47,
   "id": "married-clerk",
   "metadata": {},
   "outputs": [
    {
     "data": {
      "text/plain": [
       "2        NaN\n",
       "6        NaN\n",
       "3    23948.0\n",
       "5    23427.0\n",
       "8     3648.0\n",
       "4     3489.0\n",
       "0     2349.0\n",
       "1     2348.0\n",
       "7     1982.0\n",
       "dtype: float64"
      ]
     },
     "execution_count": 47,
     "metadata": {},
     "output_type": "execute_result"
    }
   ],
   "source": [
    "## Sorting the series using sort_values()\n",
    "sales = pd.Series([2349,2348,np.nan,23948,3489,23427,np.nan,1982,3648])\n",
    "                   \n",
    "sales.sort_values(ascending=False, na_position='first')"
   ]
  },
  {
   "cell_type": "code",
   "execution_count": 9,
   "id": "negative-treaty",
   "metadata": {},
   "outputs": [
    {
     "name": "stdout",
     "output_type": "stream",
     "text": [
      "107     3249.0\n",
      "101     2348.0\n",
      "104        NaN\n",
      "100    23948.0\n",
      "102     3489.0\n",
      "dtype: float64\n"
     ]
    },
    {
     "data": {
      "text/plain": [
       "100    23948.0\n",
       "101     2348.0\n",
       "102     3489.0\n",
       "104        NaN\n",
       "107     3249.0\n",
       "dtype: float64"
      ]
     },
     "execution_count": 9,
     "metadata": {},
     "output_type": "execute_result"
    }
   ],
   "source": [
    "## Sorting the series using sort_values()\n",
    "sales = pd.Series([3249,2348,np.nan,23948,3489], index=[107,101,104,100,102])\n",
    "print(sales)\n",
    "                   \n",
    "sales.sort_index(ascending=True)"
   ]
  },
  {
   "cell_type": "markdown",
   "id": "realistic-sailing",
   "metadata": {},
   "source": [
    "#### Checking null values\n",
    "isnull() and notnull() are used to check null values in Series."
   ]
  },
  {
   "cell_type": "code",
   "execution_count": 56,
   "id": "verbal-inside",
   "metadata": {},
   "outputs": [
    {
     "name": "stdout",
     "output_type": "stream",
     "text": [
      "0    False\n",
      "1    False\n",
      "2     True\n",
      "3    False\n",
      "4    False\n",
      "5    False\n",
      "6     True\n",
      "7    False\n",
      "8    False\n",
      "dtype: bool\n"
     ]
    },
    {
     "data": {
      "text/plain": [
       "0     2349.0\n",
       "1     2348.0\n",
       "3    23948.0\n",
       "4     3489.0\n",
       "5    23427.0\n",
       "7     1982.0\n",
       "8     3648.0\n",
       "dtype: float64"
      ]
     },
     "execution_count": 56,
     "metadata": {},
     "output_type": "execute_result"
    }
   ],
   "source": [
    "## Sorting the series using sort_values()\n",
    "sales = pd.Series([2349,2348,np.nan,23948,3489,23427,np.nan,1982,3648])\n",
    "                  \n",
    "print(sales.isnull())         \n",
    "\n",
    "sales1 = sales[sales.isnull() == False]\n",
    "sales1"
   ]
  },
  {
   "cell_type": "code",
   "execution_count": 16,
   "id": "loved-hardware",
   "metadata": {},
   "outputs": [
    {
     "data": {
      "text/plain": [
       "0     2349.000000\n",
       "1     2348.000000\n",
       "2     8741.571429\n",
       "3    23948.000000\n",
       "4     3489.000000\n",
       "5    23427.000000\n",
       "6     8741.571429\n",
       "7     1982.000000\n",
       "8     3648.000000\n",
       "dtype: float64"
      ]
     },
     "execution_count": 16,
     "metadata": {},
     "output_type": "execute_result"
    }
   ],
   "source": [
    "## Sorting the series using sort_values()\n",
    "sales = pd.Series([2349,2348,np.nan,23948,3489,23427,np.nan,1982,3648])               \n",
    "    \n",
    "sales[sales.isnull() == True] = np.mean(sales)\n",
    "sales"
   ]
  },
  {
   "cell_type": "code",
   "execution_count": 17,
   "id": "instrumental-switch",
   "metadata": {},
   "outputs": [
    {
     "name": "stdout",
     "output_type": "stream",
     "text": [
      "0     True\n",
      "1     True\n",
      "2    False\n",
      "3     True\n",
      "4     True\n",
      "5     True\n",
      "6    False\n",
      "7     True\n",
      "8     True\n",
      "dtype: bool\n"
     ]
    },
    {
     "data": {
      "text/plain": [
       "0     2349.0\n",
       "1     2348.0\n",
       "3    23948.0\n",
       "4     3489.0\n",
       "5    23427.0\n",
       "7     1982.0\n",
       "8     3648.0\n",
       "dtype: float64"
      ]
     },
     "execution_count": 17,
     "metadata": {},
     "output_type": "execute_result"
    }
   ],
   "source": [
    "## Sorting the series using sort_values()\n",
    "sales = pd.Series([2349,2348,np.nan,23948,3489,23427,np.nan,1982,3648])\n",
    "                  \n",
    "print(sales.notnull())         \n",
    "\n",
    "sales1 = sales[sales.notnull()]\n",
    "sales1"
   ]
  },
  {
   "cell_type": "markdown",
   "id": "suitable-tenant",
   "metadata": {},
   "source": [
    "#### Concatenating Series\n",
    "\n",
    "We can use concat() and append() to concatenate two or more Series."
   ]
  },
  {
   "cell_type": "code",
   "execution_count": 21,
   "id": "advisory-arrest",
   "metadata": {},
   "outputs": [
    {
     "name": "stdout",
     "output_type": "stream",
     "text": [
      "0      0.0\n",
      "1      2.0\n",
      "2      4.0\n",
      "3      6.0\n",
      "4      8.0\n",
      "5     10.0\n",
      "6     12.0\n",
      "7     14.0\n",
      "8     16.0\n",
      "9     18.0\n",
      "10    20.0\n",
      "dtype: float64\n",
      "0      1.0\n",
      "1      3.0\n",
      "2      5.0\n",
      "3      7.0\n",
      "4      9.0\n",
      "5     11.0\n",
      "6     13.0\n",
      "7     15.0\n",
      "8     17.0\n",
      "9     19.0\n",
      "10    21.0\n",
      "dtype: float64\n",
      "0      2.0\n",
      "1      4.0\n",
      "2      6.0\n",
      "3      8.0\n",
      "4     10.0\n",
      "5     12.0\n",
      "6     14.0\n",
      "7     16.0\n",
      "8     18.0\n",
      "9     20.0\n",
      "10    22.0\n",
      "dtype: float64\n"
     ]
    }
   ],
   "source": [
    "## Creating two series using np.linspace\n",
    "class1 = pd.Series(np.linspace(0,20,11))\n",
    "class2 = pd.Series(np.linspace(1,21,11))\n",
    "class3 = pd.Series(np.linspace(2,22,11))\n",
    "\n",
    "print(class1)\n",
    "print(class2)\n",
    "print(class3)"
   ]
  },
  {
   "cell_type": "code",
   "execution_count": 22,
   "id": "brave-opposition",
   "metadata": {},
   "outputs": [
    {
     "data": {
      "text/plain": [
       "0      0.0\n",
       "1      2.0\n",
       "2      4.0\n",
       "3      6.0\n",
       "4      8.0\n",
       "5     10.0\n",
       "6     12.0\n",
       "7     14.0\n",
       "8     16.0\n",
       "9     18.0\n",
       "10    20.0\n",
       "11     1.0\n",
       "12     3.0\n",
       "13     5.0\n",
       "14     7.0\n",
       "15     9.0\n",
       "16    11.0\n",
       "17    13.0\n",
       "18    15.0\n",
       "19    17.0\n",
       "20    19.0\n",
       "21    21.0\n",
       "22     2.0\n",
       "23     4.0\n",
       "24     6.0\n",
       "25     8.0\n",
       "26    10.0\n",
       "27    12.0\n",
       "28    14.0\n",
       "29    16.0\n",
       "30    18.0\n",
       "31    20.0\n",
       "32    22.0\n",
       "dtype: float64"
      ]
     },
     "execution_count": 22,
     "metadata": {},
     "output_type": "execute_result"
    }
   ],
   "source": [
    "## Concatenting two series using concat()\n",
    "newseries = pd.concat([class1, class2, class3], ignore_index=True)\n",
    "newseries"
   ]
  },
  {
   "cell_type": "code",
   "execution_count": 26,
   "id": "rocky-airfare",
   "metadata": {},
   "outputs": [
    {
     "data": {
      "text/plain": [
       "Store   Index\n",
       "Store1  0         0.0\n",
       "        1         2.0\n",
       "        2         4.0\n",
       "        3         6.0\n",
       "        4         8.0\n",
       "        5        10.0\n",
       "        6        12.0\n",
       "        7        14.0\n",
       "        8        16.0\n",
       "        9        18.0\n",
       "        10       20.0\n",
       "Store2  0         1.0\n",
       "        1         3.0\n",
       "        2         5.0\n",
       "        3         7.0\n",
       "        4         9.0\n",
       "        5        11.0\n",
       "        6        13.0\n",
       "        7        15.0\n",
       "        8        17.0\n",
       "        9        19.0\n",
       "        10       21.0\n",
       "dtype: float64"
      ]
     },
     "execution_count": 26,
     "metadata": {},
     "output_type": "execute_result"
    }
   ],
   "source": [
    "## Concatenting two series using concat() with Hierarchical Index and Label the Index\n",
    "newseries = pd.concat([class1, class2], keys=['Store1','Store2'], names=['Store','Index'])\n",
    "newseries"
   ]
  },
  {
   "cell_type": "code",
   "execution_count": 32,
   "id": "looking-attempt",
   "metadata": {},
   "outputs": [
    {
     "data": {
      "text/plain": [
       "Store   Index\n",
       "Store2  0         1.0\n",
       "        1         3.0\n",
       "        2         5.0\n",
       "        3         7.0\n",
       "        4         9.0\n",
       "        5        11.0\n",
       "        6        13.0\n",
       "        7        15.0\n",
       "        8        17.0\n",
       "        9        19.0\n",
       "        10       21.0\n",
       "dtype: float64"
      ]
     },
     "execution_count": 32,
     "metadata": {},
     "output_type": "execute_result"
    }
   ],
   "source": [
    "newseries[newseries % 2 == 1]"
   ]
  },
  {
   "cell_type": "code",
   "execution_count": 30,
   "id": "appointed-topic",
   "metadata": {},
   "outputs": [
    {
     "name": "stdout",
     "output_type": "stream",
     "text": [
      "Index\n",
      "0      0.0\n",
      "1      2.0\n",
      "2      4.0\n",
      "3      6.0\n",
      "4      8.0\n",
      "5     10.0\n",
      "6     12.0\n",
      "7     14.0\n",
      "8     16.0\n",
      "9     18.0\n",
      "10    20.0\n",
      "dtype: float64\n"
     ]
    },
    {
     "data": {
      "text/plain": [
       "10.0"
      ]
     },
     "execution_count": 30,
     "metadata": {},
     "output_type": "execute_result"
    }
   ],
   "source": [
    "print(newseries['Store1'])\n",
    "## To select subset of elements from multiindex Series\n",
    "np.mean(newseries['Store1'])"
   ]
  },
  {
   "cell_type": "code",
   "execution_count": 64,
   "id": "sunrise-alloy",
   "metadata": {},
   "outputs": [
    {
     "data": {
      "text/plain": [
       "0      0.0\n",
       "1      2.0\n",
       "2      4.0\n",
       "3      6.0\n",
       "4      8.0\n",
       "5     10.0\n",
       "6     12.0\n",
       "7     14.0\n",
       "8     16.0\n",
       "9     18.0\n",
       "10    20.0\n",
       "0      1.0\n",
       "1      3.0\n",
       "2      5.0\n",
       "3      7.0\n",
       "4      9.0\n",
       "5     11.0\n",
       "6     13.0\n",
       "7     15.0\n",
       "8     17.0\n",
       "9     19.0\n",
       "10    21.0\n",
       "dtype: float64"
      ]
     },
     "execution_count": 64,
     "metadata": {},
     "output_type": "execute_result"
    }
   ],
   "source": [
    "## Concatenting the series using append()\n",
    "class1.append(class2)"
   ]
  },
  {
   "cell_type": "code",
   "execution_count": 65,
   "id": "entitled-delta",
   "metadata": {},
   "outputs": [
    {
     "data": {
      "text/plain": [
       "0      0.0\n",
       "1      2.0\n",
       "2      4.0\n",
       "3      6.0\n",
       "4      8.0\n",
       "5     10.0\n",
       "6     12.0\n",
       "7     14.0\n",
       "8     16.0\n",
       "9     18.0\n",
       "10    20.0\n",
       "11     1.0\n",
       "12     3.0\n",
       "13     5.0\n",
       "14     7.0\n",
       "15     9.0\n",
       "16    11.0\n",
       "17    13.0\n",
       "18    15.0\n",
       "19    17.0\n",
       "20    19.0\n",
       "21    21.0\n",
       "dtype: float64"
      ]
     },
     "execution_count": 65,
     "metadata": {},
     "output_type": "execute_result"
    }
   ],
   "source": [
    "## Ignoring the original index of the series\n",
    "class1.append(class2, ignore_index = True)"
   ]
  },
  {
   "cell_type": "code",
   "execution_count": null,
   "id": "instrumental-yemen",
   "metadata": {},
   "outputs": [],
   "source": []
  }
 ],
 "metadata": {
  "kernelspec": {
   "display_name": "Python 3",
   "language": "python",
   "name": "python3"
  },
  "language_info": {
   "codemirror_mode": {
    "name": "ipython",
    "version": 3
   },
   "file_extension": ".py",
   "mimetype": "text/x-python",
   "name": "python",
   "nbconvert_exporter": "python",
   "pygments_lexer": "ipython3",
   "version": "3.7.4"
  }
 },
 "nbformat": 4,
 "nbformat_minor": 5
}
