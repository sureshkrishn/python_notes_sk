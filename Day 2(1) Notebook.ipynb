{
 "cells": [
  {
   "cell_type": "markdown",
   "id": "artificial-liabilities",
   "metadata": {},
   "source": [
    "## Module 2 Strings"
   ]
  },
  {
   "cell_type": "code",
   "execution_count": 1,
   "id": "material-handy",
   "metadata": {},
   "outputs": [
    {
     "name": "stdout",
     "output_type": "stream",
     "text": [
      "Charles\n"
     ]
    },
    {
     "data": {
      "text/plain": [
       "str"
      ]
     },
     "execution_count": 1,
     "metadata": {},
     "output_type": "execute_result"
    }
   ],
   "source": [
    "## Declaring string variable\n",
    "name = \"Charles\"\n",
    "print(name)\n",
    "type(name)"
   ]
  },
  {
   "cell_type": "code",
   "execution_count": 5,
   "id": "impressive-lincoln",
   "metadata": {},
   "outputs": [
    {
     "name": "stdout",
     "output_type": "stream",
     "text": [
      "25\n",
      "I love Python Programming\n"
     ]
    }
   ],
   "source": [
    "text = \"I love Python Programming\"\n",
    "## len() is used to get length of the string\n",
    "print(len(text))\n",
    "\n",
    "## Printing the string using len()\n",
    "print(text[:len(text)])"
   ]
  },
  {
   "cell_type": "code",
   "execution_count": 6,
   "id": "accompanied-receipt",
   "metadata": {},
   "outputs": [
    {
     "name": "stdout",
     "output_type": "stream",
     "text": [
      "I\n",
      "I love Python\n",
      "I love\n",
      "I love\n",
      "love Python\n"
     ]
    }
   ],
   "source": [
    "## String Indexing and slicing\n",
    "text = 'I love Python'\n",
    "print(text[0])\n",
    "\n",
    "## String slicing using : operator\n",
    "print(text[:])  ## Printing from starting to end of the string\n",
    "      \n",
    "print(text[0:6])  ## Printing from starting of the string to 6 characters\n",
    "print(text[:6])  ## Printing from starting of the string to 6 characters\n",
    "print(text[2:])   ## Printing from 3rd character to end of the string"
   ]
  },
  {
   "cell_type": "code",
   "execution_count": 23,
   "id": "social-execution",
   "metadata": {},
   "outputs": [
    {
     "name": "stdout",
     "output_type": "stream",
     "text": [
      " love pytho\n",
      "ii love pyth\n",
      "nohtyp evol i\n",
      "\n"
     ]
    }
   ],
   "source": [
    "## Displaying the list of character from text from 2nd letter to last but previous letter\n",
    "print(text[1:-1])\n",
    "\n",
    "print(text[0]+text[:-2])\n",
    "\n",
    "## Reversing the string using Index\n",
    "print(text[::-1])\n",
    "\n",
    "##  Reversing the string using Index and display the 3rd last letter\n",
    "\n",
    "print(text[::-1][-3])\n"
   ]
  },
  {
   "cell_type": "code",
   "execution_count": 15,
   "id": "instant-hostel",
   "metadata": {},
   "outputs": [
    {
     "name": "stdout",
     "output_type": "stream",
     "text": [
      "[1, 2, 3, 4, 5, 6, 7, 8, 9, 10]\n"
     ]
    },
    {
     "data": {
      "text/plain": [
       "[1, 3, 5, 7, 9]"
      ]
     },
     "execution_count": 15,
     "metadata": {},
     "output_type": "execute_result"
    }
   ],
   "source": [
    "num = list(range(1, 11))\n",
    "print(num)\n",
    "num[::2]"
   ]
  },
  {
   "cell_type": "markdown",
   "id": "separate-baseline",
   "metadata": {},
   "source": [
    "#### String Handling"
   ]
  },
  {
   "cell_type": "code",
   "execution_count": 16,
   "id": "voluntary-rebound",
   "metadata": {},
   "outputs": [
    {
     "name": "stdout",
     "output_type": "stream",
     "text": [
      "I love Python\n",
      "I love Data Science\n",
      "I LOVE PYTHON\n",
      "i love python\n",
      "I Love Python\n"
     ]
    }
   ],
   "source": [
    "## Replacing Python with Data science\n",
    "new_text = text.replace('Python','Data Science')\n",
    "print(text)\n",
    "print(new_text)\n",
    "\n",
    "text = 'i love python'\n",
    "print(text.upper())  ## Converting to Upper case\n",
    "print(text.lower())  ## Converting to lower case\n",
    "print(text.title())  ## Printing 1st letter of each word in upper case\n"
   ]
  },
  {
   "cell_type": "code",
   "execution_count": 6,
   "id": "disabled-orientation",
   "metadata": {},
   "outputs": [
    {
     "name": "stdout",
     "output_type": "stream",
     "text": [
      "('14', '06', '2021')\n"
     ]
    },
    {
     "data": {
      "text/plain": [
       "'14-06-2021'"
      ]
     },
     "execution_count": 6,
     "metadata": {},
     "output_type": "execute_result"
    }
   ],
   "source": [
    "## Concatenate each element of date with sep\n",
    "date = '14','06','2021'\n",
    "sep = '-'\n",
    "\n",
    "print(date)\n",
    "sep.join(date)"
   ]
  },
  {
   "cell_type": "code",
   "execution_count": 37,
   "id": "rising-pakistan",
   "metadata": {},
   "outputs": [
    {
     "name": "stdout",
     "output_type": "stream",
     "text": [
      "Python forData Science\n"
     ]
    }
   ],
   "source": [
    "## Print the string by removing leading and trailing '*' Character\n",
    "text = '***Python*for~Data~ Science**'\n",
    "print(text.strip('*').replace(\"*\",\" \").replace('~',''))\n",
    "\n",
    "#text.replace()"
   ]
  },
  {
   "cell_type": "code",
   "execution_count": null,
   "id": "pending-impossible",
   "metadata": {},
   "outputs": [],
   "source": [
    "new_text = text.replace('*','~')\n",
    "print(new_text)\n",
    "text.strip('~').replace('~',' ')"
   ]
  },
  {
   "cell_type": "markdown",
   "id": "personal-monte",
   "metadata": {},
   "source": [
    "#### Lists"
   ]
  },
  {
   "cell_type": "code",
   "execution_count": 52,
   "id": "ceramic-stylus",
   "metadata": {},
   "outputs": [
    {
     "name": "stdout",
     "output_type": "stream",
     "text": [
      "['Python for Data Science', 'Intro to Machine Learning', 'Big Data - Hadoop']\n"
     ]
    },
    {
     "data": {
      "text/plain": [
       "list"
      ]
     },
     "execution_count": 52,
     "metadata": {},
     "output_type": "execute_result"
    }
   ],
   "source": [
    "## Creating Lists\n",
    "book_list=['Python for Data Science','Intro to Machine Learning','Big Data - Hadoop']\n",
    "print(book_list)\n",
    "type(book_list)"
   ]
  },
  {
   "cell_type": "code",
   "execution_count": 9,
   "id": "isolated-wilderness",
   "metadata": {},
   "outputs": [
    {
     "name": "stdout",
     "output_type": "stream",
     "text": [
      "['Python for Data Science', 'Intro to Machine Learning', 'Big Data - Hadoop', 'James Hadley Chase', 'Sidney Sheldon', 'Harold Robins']\n"
     ]
    }
   ],
   "source": [
    "## Concatenating Lists\n",
    "authors = ['James Hadley Chase','Sidney Sheldon','Harold Robins']\n",
    "\n",
    "merged_list = book_list + authors\n",
    "\n",
    "print(merged_list)"
   ]
  },
  {
   "cell_type": "code",
   "execution_count": 10,
   "id": "phantom-economics",
   "metadata": {},
   "outputs": [
    {
     "name": "stdout",
     "output_type": "stream",
     "text": [
      "['James Hadley Chase', 'Sidney Sheldon', 'Harold Robins', 'Chetan Bhagat']\n"
     ]
    }
   ],
   "source": [
    "## Adding an element to the list\n",
    "authors.append('Chetan Bhagat')\n",
    "print(authors)"
   ]
  },
  {
   "cell_type": "code",
   "execution_count": 41,
   "id": "golden-benefit",
   "metadata": {},
   "outputs": [
    {
     "data": {
      "text/plain": [
       "[18, 25, 35, 75, 150]"
      ]
     },
     "execution_count": 41,
     "metadata": {},
     "output_type": "execute_result"
    }
   ],
   "source": [
    "## Sorting the list\n",
    "price_list = [25, 35, 150, 18,75]\n",
    "\n",
    "## Sorting the list using sort() method\n",
    "\n",
    "price_list.sort()\n",
    "\n",
    "price_list"
   ]
  },
  {
   "cell_type": "code",
   "execution_count": 46,
   "id": "usual-colleague",
   "metadata": {},
   "outputs": [
    {
     "data": {
      "text/plain": [
       "['Bakery', 'Dairy', 'Fruits', 'Grocery']"
      ]
     },
     "execution_count": 46,
     "metadata": {},
     "output_type": "execute_result"
    }
   ],
   "source": [
    "## Creating an alphanumeric list\n",
    "categories=['Dairy','Grocery','Bakery','Fruits']\n",
    "\n",
    "## Sorting the list\n",
    "categories.sort()\n",
    "\n",
    "## Printng the list\n",
    "categories"
   ]
  },
  {
   "cell_type": "code",
   "execution_count": 47,
   "id": "isolated-efficiency",
   "metadata": {},
   "outputs": [
    {
     "data": {
      "text/plain": [
       "[90, 86, 80, 76, 67, 55, 45, 40]"
      ]
     },
     "execution_count": 47,
     "metadata": {},
     "output_type": "execute_result"
    }
   ],
   "source": [
    "## sorting the list in reverse order\n",
    "marks = [ 80, 45, 67, 76, 55, 90, 86, 40]\n",
    "\n",
    "## Sorting the list in reverse order\n",
    "marks.sort(reverse = True)\n",
    "\n",
    "## Printing the list\n",
    "marks\n",
    "\n"
   ]
  },
  {
   "cell_type": "code",
   "execution_count": 53,
   "id": "comparable-middle",
   "metadata": {},
   "outputs": [
    {
     "ename": "TypeError",
     "evalue": "'<' not supported between instances of 'str' and 'float'",
     "output_type": "error",
     "traceback": [
      "\u001b[1;31m---------------------------------------------------------------------------\u001b[0m",
      "\u001b[1;31mTypeError\u001b[0m                                 Traceback (most recent call last)",
      "\u001b[1;32m<ipython-input-53-4423c7d657bd>\u001b[0m in \u001b[0;36m<module>\u001b[1;34m\u001b[0m\n\u001b[0;32m      3\u001b[0m \u001b[1;33m\u001b[0m\u001b[0m\n\u001b[0;32m      4\u001b[0m \u001b[1;31m## Sorting the mixed datatype list\u001b[0m\u001b[1;33m\u001b[0m\u001b[1;33m\u001b[0m\u001b[1;33m\u001b[0m\u001b[0m\n\u001b[1;32m----> 5\u001b[1;33m \u001b[0mmixed_datatype_list\u001b[0m\u001b[1;33m.\u001b[0m\u001b[0msort\u001b[0m\u001b[1;33m(\u001b[0m\u001b[1;33m)\u001b[0m\u001b[1;33m\u001b[0m\u001b[1;33m\u001b[0m\u001b[0m\n\u001b[0m",
      "\u001b[1;31mTypeError\u001b[0m: '<' not supported between instances of 'str' and 'float'"
     ]
    }
   ],
   "source": [
    "## Creating a list with mixed data types\n",
    "mixed_datatype_list = [30.45, 'Kevin', 86, True]\n",
    "\n",
    "## Sorting the mixed datatype list\n",
    "mixed_datatype_list.sort()"
   ]
  },
  {
   "cell_type": "code",
   "execution_count": 44,
   "id": "simplified-hawaiian",
   "metadata": {},
   "outputs": [
    {
     "name": "stdout",
     "output_type": "stream",
     "text": [
      "[80, 45, 67, 76, 55, 90, 86, 40]\n",
      "The sorted List :  [90, 86, 80, 76, 67, 55, 45, 40]\n",
      "[80, 45, 67, 76, 55, 90, 86, 40]\n"
     ]
    }
   ],
   "source": [
    "## sorting the list in reverse order\n",
    "marks = [ 80, 45, 67, 76, 55, 90, 86, 40]\n",
    "\n",
    "## Sorting a list using sorted function\n",
    "print(marks)\n",
    "\n",
    "## using sorted() function\n",
    "print('The sorted List : ',sorted(marks, reverse = True))\n",
    "\n",
    "print(marks)  ## Printing the list again.  "
   ]
  },
  {
   "cell_type": "markdown",
   "id": "expanded-stationery",
   "metadata": {},
   "source": [
    "The **sort()**  will sort and arrange the element in the list whereas the **sorted()**  only sort and print the elements.  It won't arrange the elements in the list.\n",
    "\n",
    "#### Checking the presence of an element in the list"
   ]
  },
  {
   "cell_type": "code",
   "execution_count": 49,
   "id": "charged-tracy",
   "metadata": {},
   "outputs": [
    {
     "name": "stdout",
     "output_type": "stream",
     "text": [
      "['Bakery', 'Dairy', 'Fruits', 'Grocery']\n",
      "True\n",
      "False\n",
      "[90, 86, 80, 76, 67, 55, 45, 40]\n"
     ]
    }
   ],
   "source": [
    "## Checking the presence of any lement in the list\n",
    "print(categories)\n",
    "\n",
    "## Checking 'Fruits' in the category\n",
    "print('Fruits' in categories)\n",
    "\n",
    "## Checking 98 in the marks list\n",
    "print(98 in marks)\n",
    "\n",
    "## Printing the marks list to verify the output\n",
    "print(marks)"
   ]
  },
  {
   "cell_type": "markdown",
   "id": "continental-franchise",
   "metadata": {},
   "source": [
    "#### Iterating the elements in the list\n",
    "WE can use for loop to iterate the elements in the list"
   ]
  },
  {
   "cell_type": "code",
   "execution_count": 17,
   "id": "saved-manhattan",
   "metadata": {},
   "outputs": [
    {
     "name": "stdout",
     "output_type": "stream",
     "text": [
      "['Python for Data Science', 'Intro to Machine Learning', 'Big Data - Hadoop']\n"
     ]
    }
   ],
   "source": [
    "## Let us use the book_list\n",
    "print(book_list)"
   ]
  },
  {
   "cell_type": "code",
   "execution_count": 54,
   "id": "demonstrated-retirement",
   "metadata": {},
   "outputs": [
    {
     "name": "stdout",
     "output_type": "stream",
     "text": [
      "PYTHON FOR DATA SCIENCE\n",
      "INTRO TO MACHINE LEARNING\n",
      "BIG DATA - HADOOP\n"
     ]
    }
   ],
   "source": [
    "## Iterating the elements in the list\n",
    "for book in book_list :\n",
    "    print(book.upper())"
   ]
  },
  {
   "cell_type": "code",
   "execution_count": 55,
   "id": "pursuant-conclusion",
   "metadata": {},
   "outputs": [
    {
     "name": "stdout",
     "output_type": "stream",
     "text": [
      "[90, 86, 80, 76, 67, 55, 45, 40]\n",
      "The number of elements in \"Marks\" list:  8 \n",
      "\n",
      "Maximum mark :  90 \n",
      "\n",
      "Minimum mark :  40 \n",
      "\n"
     ]
    }
   ],
   "source": [
    "## More list operations\n",
    "\n",
    "## First let us print the list\n",
    "print(marks)\n",
    "\n",
    "## Find the number of elements in the list\n",
    "print('The number of elements in \"Marks\" list: ', len(marks),'\\n')\n",
    "\n",
    "## Printing min and max of marks\n",
    "print(\"Maximum mark : \",max(marks),'\\n')\n",
    "print(\"Minimum mark : \",min(marks),'\\n')"
   ]
  },
  {
   "cell_type": "code",
   "execution_count": 56,
   "id": "least-little",
   "metadata": {},
   "outputs": [
    {
     "name": "stdout",
     "output_type": "stream",
     "text": [
      "Before Clearing : ['Bakery', 'Dairy', 'Fruits', 'Grocery']\n",
      "After Clearning : []\n"
     ]
    }
   ],
   "source": [
    "## Removing all the elements from a list\n",
    "category_backup = categories.copy()\n",
    "\n",
    "## Printing before clearing the list\n",
    "print(\"Before Clearing :\",categories)\n",
    "\n",
    "## Clearing all the elements\n",
    "categories.clear()\n",
    "\n",
    "## Printing the list after clearning all the elements\n",
    "print(\"After Clearning :\", categories)"
   ]
  },
  {
   "cell_type": "code",
   "execution_count": 58,
   "id": "handed-joshua",
   "metadata": {},
   "outputs": [
    {
     "name": "stdout",
     "output_type": "stream",
     "text": [
      "['Drinks', 'Drinks']\n"
     ]
    }
   ],
   "source": [
    "## Now we have an empty list.  We can use append() to add elements to empty list\n",
    "categories.append('Drinks')\n",
    "\n",
    "print(categories)\n",
    "\n",
    "\n",
    "## The append() will take only one element at a time.\n",
    "categories.extend(['Vegetables','Snacks'])"
   ]
  },
  {
   "cell_type": "code",
   "execution_count": 22,
   "id": "scenic-oxide",
   "metadata": {},
   "outputs": [
    {
     "name": "stdout",
     "output_type": "stream",
     "text": [
      "['Drinks', 'Vegetables', 'Snacks']\n"
     ]
    }
   ],
   "source": [
    "## We can use extend method to add multiple values\n",
    "categories.extend(['Vegetables','Snacks'])\n",
    "print(categories)"
   ]
  },
  {
   "cell_type": "markdown",
   "id": "institutional-silence",
   "metadata": {},
   "source": [
    "#### Shallow Copy \n",
    "Shallow copy is actually copying the values to a new variable"
   ]
  },
  {
   "cell_type": "code",
   "execution_count": 59,
   "id": "fifteen-cambodia",
   "metadata": {},
   "outputs": [
    {
     "name": "stdout",
     "output_type": "stream",
     "text": [
      "['Drinks', 'Drinks', 'Vegetables', 'Snacks']\n",
      "['Drinks', 'Drinks', 'Vegetables', 'Snacks']\n",
      "Categories: ['Drinks', 'Drinks', 'Vegetables', 'Snacks', 'Cloths']\n",
      "Copy of Categories: ['Drinks', 'Drinks', 'Vegetables', 'Snacks']\n"
     ]
    }
   ],
   "source": [
    "## printing categories\n",
    "print(categories)\n",
    "\n",
    "## Making a shallow copy\n",
    "categories_copy = categories.copy()\n",
    "\n",
    "## Printing new variable\n",
    "print(categories_copy)\n",
    "\n",
    "## Now I am extending a new value to categories variable\n",
    "categories.append('Cloths')\n",
    "\n",
    "## Printing Categories again\n",
    "print(\"Categories:\",categories)\n",
    "print(\"Copy of Categories:\",categories_copy)"
   ]
  },
  {
   "cell_type": "code",
   "execution_count": 24,
   "id": "clear-reliance",
   "metadata": {},
   "outputs": [
    {
     "name": "stdout",
     "output_type": "stream",
     "text": [
      "Names :  ['John', 'Kevin', 'Ashok']\n",
      "Names_Copy :  ['John', 'Kevin', 'Ashok']\n",
      "Names (2nd) :  ['John', 'Kevin', 'Ashok', 'Amy']\n",
      "Names_Copy (2nd) :  ['John', 'Kevin', 'Ashok', 'Amy']\n"
     ]
    }
   ],
   "source": [
    "## Normal copy\n",
    "names = ['John','Kevin','Ashok']\n",
    "names_copy = names\n",
    "\n",
    "## When the list is copied with normal assignment, both list variables are referencing the same list\n",
    "print(\"Names : \", names)\n",
    "print(\"Names_Copy : \",names_copy)\n",
    "\n",
    "## Adding a new name to names_copy\n",
    "names_copy.append(\"Amy\")\n",
    "\n",
    "## Printing the list 2nd time\n",
    "print(\"Names (2nd) : \", names)\n",
    "print(\"Names_Copy (2nd) : \",names_copy)"
   ]
  },
  {
   "cell_type": "code",
   "execution_count": 60,
   "id": "faced-alexander",
   "metadata": {},
   "outputs": [
    {
     "name": "stdout",
     "output_type": "stream",
     "text": [
      "1\n",
      "3\n"
     ]
    },
    {
     "data": {
      "text/plain": [
       "3"
      ]
     },
     "execution_count": 60,
     "metadata": {},
     "output_type": "execute_result"
    }
   ],
   "source": [
    "## Counting the number of occurrences in a list\n",
    "print(categories.count('Cloths'))\n",
    "\n",
    "## the count method will work numeric and boolean too\n",
    "marks = [90, 85, 85, 91, 90, 78,90]\n",
    "\n",
    "print(marks.count(90))\n",
    "\n",
    "boolvar = [True, False, False, True, False]\n",
    "boolvar.count(False)"
   ]
  },
  {
   "cell_type": "code",
   "execution_count": 61,
   "id": "industrial-private",
   "metadata": {},
   "outputs": [
    {
     "name": "stdout",
     "output_type": "stream",
     "text": [
      "['Drinks', 'Vegetables', 'Bakery', 'Snacks', 'Cloths', 'Cloths']\n",
      "4\n",
      "3\n",
      "2\n"
     ]
    }
   ],
   "source": [
    "categories = ['Drinks', 'Vegetables', 'Bakery', 'Snacks', 'Cloths', 'Cloths']\n",
    "## The index method will return the lowest index position of a searching value \n",
    "#  if there are multiple values in the list\n",
    "print(categories)\n",
    "\n",
    "print(categories.index('Cloths'))\n",
    "print(categories.index('Snacks'))\n",
    "print(categories.index('Bakery'))"
   ]
  },
  {
   "cell_type": "code",
   "execution_count": 62,
   "id": "literary-hands",
   "metadata": {},
   "outputs": [
    {
     "data": {
      "text/plain": [
       "['Drinks', 'Vegetables', 'Bakery', 'Bakery', 'Snacks', 'Cloths', 'Cloths']"
      ]
     },
     "execution_count": 62,
     "metadata": {},
     "output_type": "execute_result"
    }
   ],
   "source": [
    "## Inserting an element in a specific position in a list\n",
    "categories.insert(2,\"Bakery\")\n",
    "\n",
    "## Printing the list\n",
    "categories"
   ]
  },
  {
   "cell_type": "code",
   "execution_count": 63,
   "id": "serial-topic",
   "metadata": {},
   "outputs": [
    {
     "name": "stdout",
     "output_type": "stream",
     "text": [
      "After pop : ['Drinks', 'Vegetables', 'Bakery', 'Snacks', 'Cloths']\n",
      "After remove : ['Drinks', 'Vegetables', 'Bakery', 'Snacks']\n"
     ]
    },
    {
     "data": {
      "text/plain": [
       "['Drinks', 'Vegetables', 'Snacks']"
      ]
     },
     "execution_count": 63,
     "metadata": {},
     "output_type": "execute_result"
    }
   ],
   "source": [
    "## Removing an element from the list\n",
    "categories = ['Drinks', 'Vegetables', 'Cloths', 'Bakery', 'Snacks', 'Cloths']\n",
    "\n",
    "## Using pop method\n",
    "categories.pop()\n",
    "\n",
    "## After removing the element using pop method\n",
    "print('After pop :',categories)\n",
    "\n",
    "## Removing an element from the list\n",
    "categories = ['Drinks', 'Vegetables', 'Bakery', 'Snacks', 'Cloths', 'Cloths']\n",
    "\n",
    "## Removing using remove method\n",
    "categories.remove('Cloths')\n",
    "\n",
    "## After removing the element using pop method\n",
    "print('After remove :',categories)\n",
    "\n",
    "## Using index position to remove the pop\n",
    "categories.pop(2)\n",
    "\n",
    "categories"
   ]
  },
  {
   "cell_type": "code",
   "execution_count": 67,
   "id": "burning-subscription",
   "metadata": {},
   "outputs": [],
   "source": [
    "## Removing an element from the list\n",
    "categories = ['Drinks', 'Vegetables', 'Cloths', 'Bakery', 'Snacks', 'Cloths']\n",
    "categories.remove('Vegetables')\n",
    "result"
   ]
  },
  {
   "cell_type": "code",
   "execution_count": 68,
   "id": "tamil-pittsburgh",
   "metadata": {},
   "outputs": [
    {
     "name": "stdout",
     "output_type": "stream",
     "text": [
      "['Drinks', 'Vegetables', 'Bakery', 'Snacks', 'Cloths']\n"
     ]
    },
    {
     "data": {
      "text/plain": [
       "['Cloths', 'Snacks', 'Bakery', 'Vegetables', 'Drinks']"
      ]
     },
     "execution_count": 68,
     "metadata": {},
     "output_type": "execute_result"
    }
   ],
   "source": [
    "## Using the reverse() to reverse the list\n",
    "print(categories)\n",
    "\n",
    "## Printing the reversed list\n",
    "categories.reverse()\n",
    "\n",
    "categories"
   ]
  },
  {
   "cell_type": "code",
   "execution_count": 30,
   "id": "entitled-vatican",
   "metadata": {},
   "outputs": [
    {
     "name": "stdout",
     "output_type": "stream",
     "text": [
      "[90, 85, 85, 91, 90, 78, 90]\n"
     ]
    },
    {
     "data": {
      "text/plain": [
       "[90, 78, 90, 91, 85, 85, 90]"
      ]
     },
     "execution_count": 30,
     "metadata": {},
     "output_type": "execute_result"
    }
   ],
   "source": [
    "print(marks)\n",
    "marks.reverse()\n",
    "marks"
   ]
  },
  {
   "cell_type": "markdown",
   "id": "potential-humanitarian",
   "metadata": {},
   "source": [
    "#### Indexing and slicing a list\n",
    "The Indexing and slicing is very similar as string indexing and slicig.  We can use all the operations as similiar to strings indexing and slicing"
   ]
  },
  {
   "cell_type": "code",
   "execution_count": 31,
   "id": "checked-florence",
   "metadata": {},
   "outputs": [
    {
     "name": "stdout",
     "output_type": "stream",
     "text": [
      "['Drinks', 'Vegetables', 'Bakery', 'Snacks', 'Cloths', 'Cloths']\n",
      "Drinks\n",
      "['Vegetables', 'Bakery']\n",
      "['Vegetables', 'Bakery', 'Snacks', 'Cloths', 'Cloths']\n",
      "['Drinks', 'Vegetables', 'Bakery', 'Snacks', 'Cloths']\n",
      "['Cloths', 'Cloths', 'Snacks', 'Bakery', 'Vegetables', 'Drinks']\n"
     ]
    }
   ],
   "source": [
    "categories = ['Drinks', 'Vegetables', 'Bakery', 'Snacks', 'Cloths', 'Cloths']\n",
    "\n",
    "## Pritning actual list\n",
    "print(categories)\n",
    "\n",
    "## Printing the first element\n",
    "print(categories[0])\n",
    "\n",
    "## Printing 2 to 3 elements\n",
    "print(categories[1:3])\n",
    "\n",
    "## Printing 2 and end of the list\n",
    "print(categories[1:])\n",
    "\n",
    "## Without last element\n",
    "print(categories[:-1])\n",
    "\n",
    "## Printing the reversed list using index\n",
    "print(categories[::-1])"
   ]
  },
  {
   "cell_type": "markdown",
   "id": "metallic-trustee",
   "metadata": {},
   "source": [
    "## Tuples\n",
    "\n",
    "Tuples are immutable List.  It is used to create using paranthesis."
   ]
  },
  {
   "cell_type": "code",
   "execution_count": 32,
   "id": "painful-authority",
   "metadata": {},
   "outputs": [
    {
     "name": "stdout",
     "output_type": "stream",
     "text": [
      "('John', 'Ashok', 'Anand', 'Smith', 85, 90, 92, 94)\n"
     ]
    },
    {
     "data": {
      "text/plain": [
       "tuple"
      ]
     },
     "execution_count": 32,
     "metadata": {},
     "output_type": "execute_result"
    }
   ],
   "source": [
    "## Creating a hetrogeneous tuple\n",
    "names_marks = ('John','Ashok','Anand','Smith', 85, 90, 92, 94)\n",
    "\n",
    "## printing tuple\n",
    "print(names_marks)\n",
    "\n",
    "type(names_marks)"
   ]
  },
  {
   "cell_type": "code",
   "execution_count": 33,
   "id": "satellite-actor",
   "metadata": {},
   "outputs": [
    {
     "name": "stdout",
     "output_type": "stream",
     "text": [
      "('John', 'Ashok', 'Anand', 'Smith', 'Akshay', 85, 90, 92, 94, 75)\n",
      "<class 'tuple'>\n"
     ]
    }
   ],
   "source": [
    "## Tupels can also be created without paranthesis\n",
    "names_marks = 'John','Ashok','Anand','Smith','Akshay', 85, 90, 92, 94, 75 \n",
    "\n",
    "print(names_marks)\n",
    "print(type(names_marks))"
   ]
  },
  {
   "cell_type": "code",
   "execution_count": 34,
   "id": "behavioral-fight",
   "metadata": {},
   "outputs": [
    {
     "name": "stdout",
     "output_type": "stream",
     "text": [
      "['Akshay', 'Anand', 'Ashok', 'John', 'Smith']\n",
      "[75, 85, 90, 92, 94]\n",
      "('John', 'Ashok', 'Anand', 'Smith', 'Akshay')\n",
      "[94, 92, 90, 85, 75]\n"
     ]
    }
   ],
   "source": [
    "names = 'John','Ashok','Anand','Smith','Akshay'\n",
    "marks = 85, 90, 92, 94, 75 \n",
    "\n",
    "print(sorted(names))\n",
    "print(sorted(marks))\n",
    "\n",
    "print(names)\n",
    "\n",
    "## Sorting and printing in reverse order\n",
    "print(sorted(marks, reverse = True))"
   ]
  },
  {
   "cell_type": "code",
   "execution_count": 35,
   "id": "foreign-desert",
   "metadata": {},
   "outputs": [
    {
     "data": {
      "text/plain": [
       "['Akshay', 'Anand', 'Ashok', 'John', 'Smith']"
      ]
     },
     "execution_count": 35,
     "metadata": {},
     "output_type": "execute_result"
    }
   ],
   "source": [
    "## The sorted function on tuple will return only the list, not a tuple\n",
    "sorted_names = sorted(names)\n",
    "\n",
    "type(sorted_names)\n",
    "sorted_names"
   ]
  },
  {
   "cell_type": "markdown",
   "id": "duplicate-mustang",
   "metadata": {},
   "source": [
    "#### Tuple Oerations"
   ]
  },
  {
   "cell_type": "code",
   "execution_count": 36,
   "id": "rising-reform",
   "metadata": {},
   "outputs": [
    {
     "name": "stdout",
     "output_type": "stream",
     "text": [
      "('Pizza', 'Ice Cream', 'Pizza', 'Ice Cream')\n"
     ]
    }
   ],
   "source": [
    "## Repeating tuple elements\n",
    "Orders = 'Pizza','Ice Cream'\n",
    "\n",
    "n = 2\n",
    "\n",
    "print(Orders * n)"
   ]
  },
  {
   "cell_type": "code",
   "execution_count": 37,
   "id": "dated-dining",
   "metadata": {},
   "outputs": [
    {
     "name": "stdout",
     "output_type": "stream",
     "text": [
      "('John', 'Ashok', 'Anand', 'Smith', 'Akshay')\n",
      "(85, 90, 92, 94, 75)\n"
     ]
    },
    {
     "data": {
      "text/plain": [
       "('John', 'Ashok', 'Anand', 'Smith', 'Akshay', 85, 90, 92, 94, 75)"
      ]
     },
     "execution_count": 37,
     "metadata": {},
     "output_type": "execute_result"
    }
   ],
   "source": [
    "## Concatenating two tuples\n",
    "print(names)\n",
    "print(marks)\n",
    "\n",
    "names_and_marks = names + marks\n",
    "names_and_marks"
   ]
  },
  {
   "cell_type": "code",
   "execution_count": 38,
   "id": "pleased-bread",
   "metadata": {},
   "outputs": [
    {
     "name": "stdout",
     "output_type": "stream",
     "text": [
      "True\n",
      "False\n"
     ]
    },
    {
     "data": {
      "text/plain": [
       "True"
      ]
     },
     "execution_count": 38,
     "metadata": {},
     "output_type": "execute_result"
    }
   ],
   "source": [
    "Orders = 'Pizza','Ice Cream','Fruits','Soup'\n",
    "\n",
    "## Checking an existance of an element\n",
    "print('Fruits' in Orders)\n",
    "\n",
    "print('Cake' in Orders)\n",
    "\n",
    "## We can use 'non in' operator too\n",
    "'Chicken Wings' not in Orders\n"
   ]
  },
  {
   "cell_type": "code",
   "execution_count": 39,
   "id": "manufactured-opposition",
   "metadata": {},
   "outputs": [
    {
     "name": "stdout",
     "output_type": "stream",
     "text": [
      "Pizza\n",
      "Ice Cream\n",
      "Fruits\n",
      "Soup\n"
     ]
    },
    {
     "data": {
      "text/plain": [
       "4"
      ]
     },
     "execution_count": 39,
     "metadata": {},
     "output_type": "execute_result"
    }
   ],
   "source": [
    "## Iterating the tuple\n",
    "for item in Orders:\n",
    "    print(item)\n",
    "    \n",
    "## Using len() to count the number of elements\n",
    "len(Orders)"
   ]
  },
  {
   "cell_type": "code",
   "execution_count": 40,
   "id": "promising-tuition",
   "metadata": {},
   "outputs": [
    {
     "name": "stdout",
     "output_type": "stream",
     "text": [
      "(85, 90, 92, 94, 75)\n"
     ]
    }
   ],
   "source": [
    "print(marks)"
   ]
  },
  {
   "cell_type": "code",
   "execution_count": 41,
   "id": "respiratory-groove",
   "metadata": {},
   "outputs": [
    {
     "data": {
      "text/plain": [
       "94"
      ]
     },
     "execution_count": 41,
     "metadata": {},
     "output_type": "execute_result"
    }
   ],
   "source": [
    "## Getting the maximum value using max()\n",
    "max(marks)"
   ]
  },
  {
   "cell_type": "code",
   "execution_count": 42,
   "id": "local-tooth",
   "metadata": {},
   "outputs": [
    {
     "data": {
      "text/plain": [
       "75"
      ]
     },
     "execution_count": 42,
     "metadata": {},
     "output_type": "execute_result"
    }
   ],
   "source": [
    "## Getting the minimum value using min()\n",
    "min(marks)"
   ]
  },
  {
   "cell_type": "code",
   "execution_count": 43,
   "id": "cubic-quarterly",
   "metadata": {},
   "outputs": [
    {
     "name": "stdout",
     "output_type": "stream",
     "text": [
      "90\n"
     ]
    }
   ],
   "source": [
    "print(marks[1])"
   ]
  },
  {
   "cell_type": "code",
   "execution_count": 44,
   "id": "authentic-finish",
   "metadata": {},
   "outputs": [
    {
     "ename": "TypeError",
     "evalue": "'tuple' object does not support item assignment",
     "output_type": "error",
     "traceback": [
      "\u001b[1;31m---------------------------------------------------------------------------\u001b[0m",
      "\u001b[1;31mTypeError\u001b[0m                                 Traceback (most recent call last)",
      "\u001b[1;32m<ipython-input-44-83324638bc90>\u001b[0m in \u001b[0;36m<module>\u001b[1;34m\u001b[0m\n\u001b[1;32m----> 1\u001b[1;33m \u001b[0mmarks\u001b[0m\u001b[1;33m[\u001b[0m\u001b[1;36m1\u001b[0m\u001b[1;33m]\u001b[0m\u001b[1;33m=\u001b[0m\u001b[1;36m95\u001b[0m\u001b[1;33m\u001b[0m\u001b[1;33m\u001b[0m\u001b[0m\n\u001b[0m\u001b[0;32m      2\u001b[0m \u001b[1;33m\u001b[0m\u001b[0m\n\u001b[0;32m      3\u001b[0m \u001b[1;31m## Tuples are immutable\u001b[0m\u001b[1;33m\u001b[0m\u001b[1;33m\u001b[0m\u001b[1;33m\u001b[0m\u001b[0m\n",
      "\u001b[1;31mTypeError\u001b[0m: 'tuple' object does not support item assignment"
     ]
    }
   ],
   "source": [
    "marks[1]=95\n",
    "\n",
    "## Tuples are immutable"
   ]
  },
  {
   "cell_type": "code",
   "execution_count": 45,
   "id": "interpreted-rapid",
   "metadata": {},
   "outputs": [
    {
     "name": "stdout",
     "output_type": "stream",
     "text": [
      "<class 'tuple'>\n",
      "[10, 20, 30]\n",
      "(25, 35.5, 49.5, 75, [10, 20, 30, 40])\n"
     ]
    },
    {
     "data": {
      "text/plain": [
       "tuple"
      ]
     },
     "execution_count": 45,
     "metadata": {},
     "output_type": "execute_result"
    }
   ],
   "source": [
    "Prices = 25, 35.50, 49.50, 75, [10,20,30]\n",
    "\n",
    "print(type(Prices))\n",
    "\n",
    "print(Prices[4])\n",
    "\n",
    "## We can append element to a list in the tuple\n",
    "Prices[4].append(40)\n",
    "\n",
    "print(Prices)\n",
    "type(Prices)"
   ]
  },
  {
   "cell_type": "markdown",
   "id": "direct-friendship",
   "metadata": {},
   "source": [
    "## Dictionaries\n",
    "\n",
    "Dictionaries are key, value pair elements in a set."
   ]
  },
  {
   "cell_type": "code",
   "execution_count": 46,
   "id": "strategic-playing",
   "metadata": {},
   "outputs": [
    {
     "name": "stdout",
     "output_type": "stream",
     "text": [
      "<class 'dict'>\n",
      "{'Carrot': 45, 'Peas': 80, 'Mango': 65}\n",
      "('John', 'Ashok', 'Anand', 'Smith', 'Akshay')\n",
      "(85, 90, 92, 94, 75)\n",
      "{'John': 85, 'Ashok': 90, 'Anand': 92, 'Smith': 94, 'Akshay': 75}\n"
     ]
    }
   ],
   "source": [
    "## Creating Dictory\n",
    "vegprice = {'Carrot':45, 'Peas':80,'Mango':65}\n",
    "\n",
    "print(type(vegprice))\n",
    "print(vegprice)\n",
    "\n",
    "\n",
    "print(names)\n",
    "print(marks)\n",
    "namesmarks=zip(names,marks)\n",
    "dict1 = dict(namesmarks)\n",
    "print(dict1)"
   ]
  },
  {
   "cell_type": "code",
   "execution_count": 47,
   "id": "consecutive-jason",
   "metadata": {},
   "outputs": [
    {
     "data": {
      "text/plain": [
       "{'John': 85, 'Ashok': 90, 'Anand': 92, 'Smith': 94, 'Akshay': 75}"
      ]
     },
     "execution_count": 47,
     "metadata": {},
     "output_type": "execute_result"
    }
   ],
   "source": [
    "dict1"
   ]
  },
  {
   "cell_type": "code",
   "execution_count": 48,
   "id": "written-phrase",
   "metadata": {},
   "outputs": [
    {
     "name": "stdout",
     "output_type": "stream",
     "text": [
      "{'Carrot': 45, 'Peas': 80, 'Mango': 65, 'Beans': 85}\n"
     ]
    }
   ],
   "source": [
    "## Adding an element to dictionary\n",
    "\n",
    "vegprice[\"Beans\"] = 85\n",
    "\n",
    "print(vegprice)"
   ]
  },
  {
   "cell_type": "code",
   "execution_count": 49,
   "id": "statewide-protocol",
   "metadata": {},
   "outputs": [
    {
     "data": {
      "text/plain": [
       "{'Carrot': 45, 'Peas': 80, 'Beans': 85}"
      ]
     },
     "execution_count": 49,
     "metadata": {},
     "output_type": "execute_result"
    }
   ],
   "source": [
    "## Removing an element from the dictionary\n",
    "del vegprice['Mango']\n",
    "vegprice"
   ]
  },
  {
   "cell_type": "code",
   "execution_count": 50,
   "id": "affected-boston",
   "metadata": {},
   "outputs": [
    {
     "name": "stdout",
     "output_type": "stream",
     "text": [
      "{'can': 6, 'you': 1, 'a': 3, 'as': 1, 'canner': 1}\n"
     ]
    }
   ],
   "source": [
    "## Creating a text\n",
    "twister = 'can you can a can as a canner can can a can'\n",
    "\n",
    "## Initializing an empty dictionary object\n",
    "wordcount = {}\n",
    "\n",
    "## Let us count each occurrance of a word in the above sentence\n",
    "for word in twister.split() :\n",
    "    if word not in wordcount :\n",
    "        wordcount[word] = 1\n",
    "    else :\n",
    "        wordcount[word] += 1;\n",
    "        \n",
    "## Printing the wordcount\n",
    "print(wordcount)"
   ]
  },
  {
   "cell_type": "code",
   "execution_count": 51,
   "id": "distinguished-particle",
   "metadata": {},
   "outputs": [
    {
     "ename": "KeyError",
     "evalue": "'can'",
     "output_type": "error",
     "traceback": [
      "\u001b[1;31m---------------------------------------------------------------------------\u001b[0m",
      "\u001b[1;31mKeyError\u001b[0m                                  Traceback (most recent call last)",
      "\u001b[1;32m<ipython-input-51-c168cc339e0b>\u001b[0m in \u001b[0;36m<module>\u001b[1;34m\u001b[0m\n\u001b[0;32m      4\u001b[0m \u001b[1;31m## Let us simplify the for loop\u001b[0m\u001b[1;33m\u001b[0m\u001b[1;33m\u001b[0m\u001b[1;33m\u001b[0m\u001b[0m\n\u001b[0;32m      5\u001b[0m \u001b[1;32mfor\u001b[0m \u001b[0mword\u001b[0m \u001b[1;32min\u001b[0m \u001b[0mtwister\u001b[0m\u001b[1;33m.\u001b[0m\u001b[0msplit\u001b[0m\u001b[1;33m(\u001b[0m\u001b[1;33m)\u001b[0m \u001b[1;33m:\u001b[0m\u001b[1;33m\u001b[0m\u001b[1;33m\u001b[0m\u001b[0m\n\u001b[1;32m----> 6\u001b[1;33m     \u001b[0mwordcount\u001b[0m\u001b[1;33m[\u001b[0m\u001b[0mword\u001b[0m\u001b[1;33m]\u001b[0m \u001b[1;33m+=\u001b[0m \u001b[1;36m1\u001b[0m\u001b[1;33m;\u001b[0m\u001b[1;33m\u001b[0m\u001b[1;33m\u001b[0m\u001b[0m\n\u001b[0m\u001b[0;32m      7\u001b[0m \u001b[1;33m\u001b[0m\u001b[0m\n\u001b[0;32m      8\u001b[0m \u001b[1;31m## Let us print the dictionary\u001b[0m\u001b[1;33m\u001b[0m\u001b[1;33m\u001b[0m\u001b[1;33m\u001b[0m\u001b[0m\n",
      "\u001b[1;31mKeyError\u001b[0m: 'can'"
     ]
    }
   ],
   "source": [
    "## Let us use the same twister variable.  But initialize the wordcount again\n",
    "wordcount = {}\n",
    "\n",
    "## Let us simplify the for loop\n",
    "for word in twister.split() :\n",
    "    wordcount[word] += 1;\n",
    "\n",
    "## Let us print the dictionary\n",
    "print(wordcount)    \n"
   ]
  },
  {
   "cell_type": "markdown",
   "id": "stupid-disability",
   "metadata": {},
   "source": [
    "It will throw an error since we are trying to add a value to uninitialized key in the wordcount dictionary.  To solve the above problem, we can create a default dictionary.\n",
    "\n",
    "#### Default Dictionary"
   ]
  },
  {
   "cell_type": "code",
   "execution_count": 52,
   "id": "junior-appendix",
   "metadata": {},
   "outputs": [
    {
     "name": "stdout",
     "output_type": "stream",
     "text": [
      "defaultdict(<class 'int'>, {'can': 6, 'you': 1, 'a': 3, 'as': 1, 'canner': 1})\n"
     ]
    }
   ],
   "source": [
    "## Importing the default dictionary library from collections package\n",
    "from collections import defaultdict\n",
    "\n",
    "## Let us use the same sentence with initialized wordcount dictionary\n",
    "wordcount = defaultdict(int)\n",
    "\n",
    "## Now Let us run the for loop\n",
    "for word in twister.split() :\n",
    "    wordcount[word] += 1;\n",
    "\n",
    "## Let us print the dictionary\n",
    "print(wordcount)  "
   ]
  },
  {
   "cell_type": "code",
   "execution_count": 53,
   "id": "adverse-parliament",
   "metadata": {},
   "outputs": [
    {
     "name": "stdout",
     "output_type": "stream",
     "text": [
      "Key : can \t\tValue :  6\n",
      "Key : you \t\tValue :  1\n",
      "Key : a \t\tValue :  3\n",
      "Key : as \t\tValue :  1\n",
      "Key : canner \t\tValue :  1\n"
     ]
    }
   ],
   "source": [
    "## Looping through the dictionary\n",
    "for key, value in wordcount.items() :\n",
    "    print('Key :', key , \"\\t\\tValue : \", value)"
   ]
  },
  {
   "cell_type": "markdown",
   "id": "clinical-theory",
   "metadata": {},
   "source": [
    "#### Dictionary Operations"
   ]
  },
  {
   "cell_type": "code",
   "execution_count": 54,
   "id": "numerical-mention",
   "metadata": {},
   "outputs": [
    {
     "name": "stdout",
     "output_type": "stream",
     "text": [
      "Number of Elements in wordcount :  5\n"
     ]
    },
    {
     "data": {
      "text/plain": [
       "\"defaultdict(<class 'int'>, {'can': 6, 'you': 1, 'a': 3, 'as': 1, 'canner': 1})\""
      ]
     },
     "execution_count": 54,
     "metadata": {},
     "output_type": "execute_result"
    }
   ],
   "source": [
    "## Counting the number of elements\n",
    "print(\"Number of Elements in wordcount : \", len(wordcount))\n",
    "\n",
    "## Converting to String for printable format\n",
    "str(wordcount)\n",
    "\n",
    "## The output will be a complete string"
   ]
  },
  {
   "cell_type": "code",
   "execution_count": 55,
   "id": "solar-concord",
   "metadata": {},
   "outputs": [
    {
     "name": "stdout",
     "output_type": "stream",
     "text": [
      "defaultdict(<class 'int'>, {})\n"
     ]
    },
    {
     "data": {
      "text/plain": [
       "{'Carrot': 45, 'Peas': 80, 'Beans': 85}"
      ]
     },
     "execution_count": 55,
     "metadata": {},
     "output_type": "execute_result"
    }
   ],
   "source": [
    "## To clear the dictionary\n",
    "wordcount.clear()\n",
    "\n",
    "## Printing the wordcount\n",
    "print(wordcount)\n",
    "\n",
    "## To create a shallow copy\n",
    "newvegprice = vegprice.copy()\n",
    "\n",
    "## Printing the new variable\n",
    "newvegprice"
   ]
  },
  {
   "cell_type": "code",
   "execution_count": 56,
   "id": "greatest-marijuana",
   "metadata": {},
   "outputs": [
    {
     "name": "stdout",
     "output_type": "stream",
     "text": [
      "dict_keys(['Carrot', 'Peas', 'Beans'])\n",
      "dict_values([45, 80, 85])\n"
     ]
    }
   ],
   "source": [
    "## Just to extract the keys from a dictionary\n",
    "print(vegprice.keys())\n",
    "\n",
    "## Just to print the values from a dictionary\n",
    "print(vegprice.values())"
   ]
  },
  {
   "cell_type": "code",
   "execution_count": 60,
   "id": "elementary-textbook",
   "metadata": {},
   "outputs": [
    {
     "name": "stdout",
     "output_type": "stream",
     "text": [
      "{'Carrot': 45, 'Peas': 80, 'Beans': 85}\n",
      "The price of Peas is : 80\n",
      "The price of Peas is : None\n"
     ]
    },
    {
     "ename": "KeyError",
     "evalue": "'Mango'",
     "output_type": "error",
     "traceback": [
      "\u001b[1;31m---------------------------------------------------------------------------\u001b[0m",
      "\u001b[1;31mKeyError\u001b[0m                                  Traceback (most recent call last)",
      "\u001b[1;32m<ipython-input-60-74e9c779e229>\u001b[0m in \u001b[0;36m<module>\u001b[1;34m\u001b[0m\n\u001b[0;32m      7\u001b[0m \u001b[1;31m## Printing an non-existing item from the dictionary\u001b[0m\u001b[1;33m\u001b[0m\u001b[1;33m\u001b[0m\u001b[1;33m\u001b[0m\u001b[0m\n\u001b[0;32m      8\u001b[0m \u001b[0mprint\u001b[0m\u001b[1;33m(\u001b[0m\u001b[1;34m\"The price of Peas is :\"\u001b[0m\u001b[1;33m,\u001b[0m \u001b[0mvegprice\u001b[0m\u001b[1;33m.\u001b[0m\u001b[0mget\u001b[0m\u001b[1;33m(\u001b[0m\u001b[1;34m'Mango'\u001b[0m\u001b[1;33m)\u001b[0m\u001b[1;33m)\u001b[0m\u001b[1;33m\u001b[0m\u001b[1;33m\u001b[0m\u001b[0m\n\u001b[1;32m----> 9\u001b[1;33m \u001b[0mprint\u001b[0m\u001b[1;33m(\u001b[0m\u001b[1;34m\"The price of Peas is :\"\u001b[0m\u001b[1;33m,\u001b[0m \u001b[0mvegprice\u001b[0m\u001b[1;33m[\u001b[0m\u001b[1;34m'Mango'\u001b[0m\u001b[1;33m]\u001b[0m\u001b[1;33m)\u001b[0m\u001b[1;33m\u001b[0m\u001b[1;33m\u001b[0m\u001b[0m\n\u001b[0m",
      "\u001b[1;31mKeyError\u001b[0m: 'Mango'"
     ]
    }
   ],
   "source": [
    "## Retrieving value using get()\n",
    "print(vegprice)\n",
    "\n",
    "## Printing price of one item\n",
    "print(\"The price of Peas is :\", vegprice.get('Peas'))\n",
    "\n",
    "## Printing an non-existing item from the dictionary\n",
    "print(\"The price of Peas is :\", vegprice.get('Mango'))\n",
    "print(\"The price of Peas is :\", vegprice['Mango'])"
   ]
  },
  {
   "cell_type": "code",
   "execution_count": 61,
   "id": "level-vanilla",
   "metadata": {},
   "outputs": [
    {
     "data": {
      "text/plain": [
       "{'Carrot': 45, 'Peas': 80, 'Beans': 85, 'Mango': 115}"
      ]
     },
     "execution_count": 61,
     "metadata": {},
     "output_type": "execute_result"
    }
   ],
   "source": [
    "## Setting a key value with setdefault()\n",
    "vegprice.setdefault('Mango',115)\n",
    "vegprice"
   ]
  },
  {
   "cell_type": "code",
   "execution_count": 63,
   "id": "ideal-stock",
   "metadata": {},
   "outputs": [
    {
     "name": "stdout",
     "output_type": "stream",
     "text": [
      "{'order_id': None, 'quantity': None, 'price': None}\n",
      "{'order_id': 10, 'quantity': 10, 'price': 10}\n"
     ]
    }
   ],
   "source": [
    "## Creating a tuple\n",
    "order = (\"order_id\", \"quantity\",'price')\n",
    "\n",
    "## Creating a dictionary using fromkeys()\n",
    "dict1 = dict.fromkeys(order)\n",
    "\n",
    "print(dict1)\n",
    "\n",
    "## Assigning default values to all keys\n",
    "dict2 = dict.fromkeys(order,10)\n",
    "print(dict2)"
   ]
  },
  {
   "cell_type": "code",
   "execution_count": 64,
   "id": "confident-closer",
   "metadata": {},
   "outputs": [
    {
     "name": "stdout",
     "output_type": "stream",
     "text": [
      "{'order_id': 10, 'quantity': 10, 'price': 11.5}\n"
     ]
    }
   ],
   "source": [
    "## Updating an item in the dictionary\n",
    "dict2['price'] = 11.5\n",
    "print(dict2)"
   ]
  },
  {
   "cell_type": "code",
   "execution_count": 66,
   "id": "continental-terrorism",
   "metadata": {},
   "outputs": [
    {
     "name": "stdout",
     "output_type": "stream",
     "text": [
      "{'order_id': 10, 'quantity': 10, 'price': 11.5, 'total_price': 115.0}\n",
      "{'order_id': 10, 'quantity': 10, 'price': 11.5}\n"
     ]
    }
   ],
   "source": [
    "## Deleting an element from dictionary using del command\n",
    "dict2['total_price'] = dict2['quantity'] * dict2['price']\n",
    "print(dict2)\n",
    "\n",
    "## Now we are going to delete the added column\n",
    "del dict2['total_price']\n",
    "\n",
    "print(dict2)"
   ]
  },
  {
   "cell_type": "code",
   "execution_count": 67,
   "id": "organic-sherman",
   "metadata": {},
   "outputs": [
    {
     "name": "stdout",
     "output_type": "stream",
     "text": [
      "{'Carrot': 53, 'Peas': 80, 'Mango': 65}\n"
     ]
    }
   ],
   "source": [
    "## Creating a dictionary with duplicate elements\n",
    "\n",
    "vegprice = {'Carrot':45, 'Carrot':55,'Carrot':53,'Peas':80,'Mango':65}\n",
    "\n",
    "## If we print the vegprice dictionary, the element 'Carrot' will take the final value in the element\n",
    "print(vegprice)"
   ]
  },
  {
   "cell_type": "code",
   "execution_count": 69,
   "id": "confidential-morning",
   "metadata": {},
   "outputs": [
    {
     "name": "stdout",
     "output_type": "stream",
     "text": [
      "{'John': 86, 'Abhi': 89, 'Anand': 92}\n"
     ]
    }
   ],
   "source": [
    "## Creating dictionary from lists\n",
    "names=['John','Abhi','Anand']\n",
    "marks=[86,89, 92]\n",
    "\n",
    "## we can use zip() to create dictionary\n",
    "marksdict = dict(zip(names,marks))\n",
    "\n",
    "print(marksdict)"
   ]
  },
  {
   "cell_type": "markdown",
   "id": "detailed-lewis",
   "metadata": {},
   "source": [
    "#### List Comprehension"
   ]
  },
  {
   "cell_type": "code",
   "execution_count": 72,
   "id": "gentle-emperor",
   "metadata": {},
   "outputs": [
    {
     "name": "stdout",
     "output_type": "stream",
     "text": [
      "[1, 4, 9, 16, 25, 36, 49, 64, 81, 100]\n",
      "[4, 16, 36, 64, 100]\n"
     ]
    }
   ],
   "source": [
    "## Creating an empty list\n",
    "numseries =[]\n",
    "\n",
    "for i in range(1, 11):\n",
    "    numseries.append(i*i)\n",
    "print(numseries)    \n",
    "\n",
    "# Creating the same list using list comprehension\n",
    "numseries1 = [i * i for i in range(1,11)]\n",
    "\n",
    "## List comprehension using conditions\n",
    "numseries2 = [i ** 2 for i in range(1, 11) if i % 2 == 0]\n",
    "print(numseries2)"
   ]
  },
  {
   "cell_type": "code",
   "execution_count": 73,
   "id": "terminal-french",
   "metadata": {},
   "outputs": [
    {
     "name": "stdout",
     "output_type": "stream",
     "text": [
      "['G', 'D', 'B', 'F', 'S']\n"
     ]
    }
   ],
   "source": [
    "## Reading first letter form the list\n",
    "items = ['Grocery','Dairy','Bakery','Fruits','Soft Drinks']\n",
    "\n",
    "firstletter = [v[0] for v in items]\n",
    "print(firstletter)"
   ]
  },
  {
   "cell_type": "code",
   "execution_count": 74,
   "id": "aggressive-alexandria",
   "metadata": {},
   "outputs": [
    {
     "data": {
      "text/plain": [
       "[23325, 152000]"
      ]
     },
     "execution_count": 74,
     "metadata": {},
     "output_type": "execute_result"
    }
   ],
   "source": [
    "## Extracting only numbers from the text\n",
    "text = \"Anand Employee id is 23325 and his salary is 152000 Rupees\"\n",
    "\n",
    "numbers = [int(i) for i in text.split() if i.isdigit() == True]\n",
    "\n",
    "numbers"
   ]
  },
  {
   "cell_type": "code",
   "execution_count": 76,
   "id": "understood-waterproof",
   "metadata": {},
   "outputs": [
    {
     "name": "stdout",
     "output_type": "stream",
     "text": [
      "['I', 'i', 'i', 'e', 'e', 'a', 'o', 'o', 'a', 'e', 'I', 'e', 'a', 'e', 'i', 'i']\n"
     ]
    }
   ],
   "source": [
    "## Extracting vowels from a sentence\n",
    "sentence = \"I will drive the car on my own after I learn the driving\"\n",
    "\n",
    "vowels = [vowel for vowel in sentence if vowel in \"aeiouAEIOU\"]\n",
    "print(vowels)"
   ]
  },
  {
   "cell_type": "code",
   "execution_count": 78,
   "id": "authentic-configuration",
   "metadata": {},
   "outputs": [
    {
     "data": {
      "text/plain": [
       "[15, 20, 15, 15, 30]"
      ]
     },
     "execution_count": 78,
     "metadata": {},
     "output_type": "execute_result"
    }
   ],
   "source": [
    "## Multiple (Nested If) conditions\n",
    "## Defining a list\n",
    "items = ['Grocery','Dairy','Bakery','Fruits','Soft Drinks']\n",
    "\n",
    "discount = [30 if p == 'Soft Drinks' else 20 if p == 'Dairy' else 15 for p in items]\n",
    "discount"
   ]
  },
  {
   "cell_type": "markdown",
   "id": "abstract-showcase",
   "metadata": {},
   "source": [
    "### User Defined Functions"
   ]
  },
  {
   "cell_type": "code",
   "execution_count": 81,
   "id": "unlike-christopher",
   "metadata": {},
   "outputs": [
    {
     "name": "stdout",
     "output_type": "stream",
     "text": [
      "Area of a triange with base =  5  and height =  7  is : 17.5\n"
     ]
    }
   ],
   "source": [
    "## Area of triange\n",
    "def area_of_triange(base, height) :\n",
    "    return (0.5 * base * height)\n",
    "\n",
    "base = 5\n",
    "height = 7\n",
    "\n",
    "area = area_of_triange(base, height)\n",
    "print(\"Area of a triange with base = \", base, \" and height = \", height, ' is :', area)"
   ]
  },
  {
   "cell_type": "code",
   "execution_count": 90,
   "id": "sporting-queen",
   "metadata": {},
   "outputs": [
    {
     "name": "stdout",
     "output_type": "stream",
     "text": [
      "Welcome to learn UDFs!\n"
     ]
    }
   ],
   "source": [
    "## greet function without any return value\n",
    "def greet() :\n",
    "    print(\"Welcome to learn UDFs!\")\n",
    "\n",
    "## Calling the functiion\n",
    "greet()"
   ]
  },
  {
   "cell_type": "code",
   "execution_count": 88,
   "id": "automatic-benchmark",
   "metadata": {},
   "outputs": [
    {
     "name": "stdout",
     "output_type": "stream",
     "text": [
      "Enter the name: Anand\n",
      "Hello Anand! Welcome to the Show!!\n"
     ]
    }
   ],
   "source": [
    "## Function with argument\n",
    "def greet(name) :\n",
    "    print('Hello ', name, '! Welcome to the Show!!', sep='')\n",
    "    \n",
    "person = input(\"Enter the name: \")    \n",
    "greet(person)"
   ]
  },
  {
   "cell_type": "code",
   "execution_count": 89,
   "id": "hearing-angel",
   "metadata": {},
   "outputs": [
    {
     "ename": "TypeError",
     "evalue": "greet() missing 1 required positional argument: 'name'",
     "output_type": "error",
     "traceback": [
      "\u001b[1;31m---------------------------------------------------------------------------\u001b[0m",
      "\u001b[1;31mTypeError\u001b[0m                                 Traceback (most recent call last)",
      "\u001b[1;32m<ipython-input-89-1873abae22c7>\u001b[0m in \u001b[0;36m<module>\u001b[1;34m\u001b[0m\n\u001b[0;32m      1\u001b[0m \u001b[1;31m## Suppose if you call without any argument, it will throw an error\u001b[0m\u001b[1;33m\u001b[0m\u001b[1;33m\u001b[0m\u001b[1;33m\u001b[0m\u001b[0m\n\u001b[1;32m----> 2\u001b[1;33m \u001b[0mgreet\u001b[0m\u001b[1;33m(\u001b[0m\u001b[1;33m)\u001b[0m\u001b[1;33m\u001b[0m\u001b[1;33m\u001b[0m\u001b[0m\n\u001b[0m",
      "\u001b[1;31mTypeError\u001b[0m: greet() missing 1 required positional argument: 'name'"
     ]
    }
   ],
   "source": [
    "## Suppose if you call without any argument, it will throw an error\n",
    "greet()"
   ]
  },
  {
   "cell_type": "code",
   "execution_count": 91,
   "id": "written-condition",
   "metadata": {},
   "outputs": [
    {
     "ename": "TypeError",
     "evalue": "greet() takes 0 positional arguments but 1 was given",
     "output_type": "error",
     "traceback": [
      "\u001b[1;31m---------------------------------------------------------------------------\u001b[0m",
      "\u001b[1;31mTypeError\u001b[0m                                 Traceback (most recent call last)",
      "\u001b[1;32m<ipython-input-91-5d4f96bea5bd>\u001b[0m in \u001b[0;36m<module>\u001b[1;34m\u001b[0m\n\u001b[0;32m      1\u001b[0m \u001b[1;31m## Also if you call a function that does not accept any parameter and calling the function with parameter,\u001b[0m\u001b[1;33m\u001b[0m\u001b[1;33m\u001b[0m\u001b[1;33m\u001b[0m\u001b[0m\n\u001b[0;32m      2\u001b[0m \u001b[1;31m## it will throw an error\u001b[0m\u001b[1;33m\u001b[0m\u001b[1;33m\u001b[0m\u001b[1;33m\u001b[0m\u001b[0m\n\u001b[1;32m----> 3\u001b[1;33m \u001b[0mgreet\u001b[0m\u001b[1;33m(\u001b[0m\u001b[0mperson\u001b[0m\u001b[1;33m)\u001b[0m\u001b[1;33m\u001b[0m\u001b[1;33m\u001b[0m\u001b[0m\n\u001b[0m",
      "\u001b[1;31mTypeError\u001b[0m: greet() takes 0 positional arguments but 1 was given"
     ]
    }
   ],
   "source": [
    "## Also if you call a function that does not accept any parameter and calling the function with parameter, \n",
    "## it will throw an error\n",
    "greet(person)"
   ]
  },
  {
   "cell_type": "code",
   "execution_count": 94,
   "id": "varying-burton",
   "metadata": {},
   "outputs": [
    {
     "name": "stdout",
     "output_type": "stream",
     "text": [
      "12\n",
      "3\n",
      "3464\n"
     ]
    }
   ],
   "source": [
    "## Variable length arguments\n",
    "def addition(*num) :\n",
    "    total = 0\n",
    "    for i in num:\n",
    "        total += i\n",
    "    print(total)\n",
    "\n",
    "addition(3, 4, 5)    \n",
    "addition(3)\n",
    "addition(1119, 2345)"
   ]
  },
  {
   "cell_type": "code",
   "execution_count": 99,
   "id": "usual-discharge",
   "metadata": {},
   "outputs": [
    {
     "name": "stdout",
     "output_type": "stream",
     "text": [
      "<class 'dict'>\n",
      "Name = Amy\n",
      "Salary = 115000\n",
      "\n",
      "\n",
      "<class 'dict'>\n",
      "Firstname = Smith\n",
      "Lastname = William\n",
      "Designation = Software Engineer\n",
      "Salary = 10000\n"
     ]
    }
   ],
   "source": [
    "## Variable length keyworded arguments\n",
    "def employee_details(**details) :\n",
    "    print(type(details))\n",
    "    for k, v in details.items() :\n",
    "        print(k,'=',v)\n",
    "        \n",
    "employee_details(Name = 'Amy', Salary = 115000)  \n",
    "print('\\n')\n",
    "employee_details(Firstname = 'Smith', Lastname='William', Designation = 'Software Engineer', Salary = 10000)        "
   ]
  },
  {
   "cell_type": "markdown",
   "id": "appointed-croatia",
   "metadata": {},
   "source": [
    "### Lambda Functions\n",
    "Simple one lineer Functions"
   ]
  },
  {
   "cell_type": "code",
   "execution_count": 100,
   "id": "ruled-texas",
   "metadata": {},
   "outputs": [
    {
     "name": "stdout",
     "output_type": "stream",
     "text": [
      "10\n"
     ]
    }
   ],
   "source": [
    "## Finding the largest number\n",
    "def greater (num1, num2) :\n",
    "    if (num1 > num2) :\n",
    "        return num1\n",
    "    else :\n",
    "        return num2\n",
    "    \n",
    "largest_value = greater(10, 9)   \n",
    "print(largest_value)"
   ]
  },
  {
   "cell_type": "code",
   "execution_count": 101,
   "id": "federal-poker",
   "metadata": {},
   "outputs": [
    {
     "data": {
      "text/plain": [
       "15"
      ]
     },
     "execution_count": 101,
     "metadata": {},
     "output_type": "execute_result"
    }
   ],
   "source": [
    "## The same function using lambda function\n",
    "greater = lambda num1, num2: num1 if num1 > num2 else num2\n",
    "greater(10, 15)"
   ]
  },
  {
   "cell_type": "code",
   "execution_count": 102,
   "id": "interesting-humanitarian",
   "metadata": {},
   "outputs": [
    {
     "data": {
      "text/plain": [
       "[1, 4, 9, 16, 25, 36, 49, 64, 81, 100]"
      ]
     },
     "execution_count": 102,
     "metadata": {},
     "output_type": "execute_result"
    }
   ],
   "source": [
    "## Lambda with map\n",
    "numlist = list(range(1,11))\n",
    "sq_list = list(map(lambda x: x **2, numlist))\n",
    "sq_list"
   ]
  },
  {
   "cell_type": "code",
   "execution_count": 105,
   "id": "helpful-native",
   "metadata": {},
   "outputs": [
    {
     "data": {
      "text/plain": [
       "[3, 6, 9]"
      ]
     },
     "execution_count": 105,
     "metadata": {},
     "output_type": "execute_result"
    }
   ],
   "source": [
    "## Lambda with filter()\n",
    "sqlist = list(filter(lambda x: x % 3 == 0, numlist))\n",
    "sqlist"
   ]
  },
  {
   "cell_type": "code",
   "execution_count": 111,
   "id": "higher-powell",
   "metadata": {},
   "outputs": [
    {
     "name": "stdout",
     "output_type": "stream",
     "text": [
      "[1, 2, 3, 4, 5, 6, 7, 8, 9]\n"
     ]
    },
    {
     "data": {
      "text/plain": [
       "362880"
      ]
     },
     "execution_count": 111,
     "metadata": {},
     "output_type": "execute_result"
    }
   ],
   "source": [
    "## Lambda with reduce\n",
    "from functools import reduce\n",
    "numlist = list(range(1, 10))\n",
    "print(numlist)\n",
    "\n",
    "## Factorial of 5\n",
    "reduce(lambda a, b: a*b, numlist)\n"
   ]
  },
  {
   "cell_type": "code",
   "execution_count": 112,
   "id": "realistic-ending",
   "metadata": {},
   "outputs": [
    {
     "data": {
      "text/plain": [
       "-28"
      ]
     },
     "execution_count": 112,
     "metadata": {},
     "output_type": "execute_result"
    }
   ],
   "source": [
    "## Finding the minimum value\n",
    "numlist = [-1, 0, 100, 234, -28]\n",
    "\n",
    "## Finding the minimum value\n",
    "reduce(lambda x, y: x if (x < y) else y, numlist)"
   ]
  },
  {
   "cell_type": "code",
   "execution_count": null,
   "id": "historical-jamaica",
   "metadata": {},
   "outputs": [],
   "source": []
  }
 ],
 "metadata": {
  "kernelspec": {
   "display_name": "Python 3",
   "language": "python",
   "name": "python3"
  },
  "language_info": {
   "codemirror_mode": {
    "name": "ipython",
    "version": 3
   },
   "file_extension": ".py",
   "mimetype": "text/x-python",
   "name": "python",
   "nbconvert_exporter": "python",
   "pygments_lexer": "ipython3",
   "version": "3.8.8"
  }
 },
 "nbformat": 4,
 "nbformat_minor": 5
}
