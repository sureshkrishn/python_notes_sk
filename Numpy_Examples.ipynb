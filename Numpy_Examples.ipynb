{
 "cells": [
  {
   "cell_type": "markdown",
   "id": "hidden-energy",
   "metadata": {},
   "source": [
    "## Python Numpy"
   ]
  },
  {
   "cell_type": "code",
   "execution_count": 1,
   "id": "democratic-register",
   "metadata": {},
   "outputs": [],
   "source": [
    "## First let us import Numpy LIbrary\n",
    "import numpy as np"
   ]
  },
  {
   "cell_type": "code",
   "execution_count": 12,
   "id": "vanilla-armenia",
   "metadata": {},
   "outputs": [
    {
     "name": "stdout",
     "output_type": "stream",
     "text": [
      "[30 30 25 36 38 38 41 38 36 30]\n",
      "[30 30 25 36 38 38 41 38 36 30]\n",
      "<class 'numpy.ndarray'>\n"
     ]
    }
   ],
   "source": [
    "# Declaring a list\n",
    "agelist = np.random.randint(18, 45, 10)\n",
    "\n",
    "print(agelist)\n",
    "## Creating array\n",
    "agearray = np.array(agelist)\n",
    "\n",
    "print(agearray)  # Printing the array\n",
    "print(type(agearray))  # Printing the type"
   ]
  },
  {
   "cell_type": "code",
   "execution_count": 3,
   "id": "intelligent-fitness",
   "metadata": {},
   "outputs": [
    {
     "name": "stdout",
     "output_type": "stream",
     "text": [
      "['Python for Data Science' 'Intro to Machine Learning'\n",
      " 'Intro to Deep Learning']\n"
     ]
    },
    {
     "data": {
      "text/plain": [
       "numpy.ndarray"
      ]
     },
     "execution_count": 3,
     "metadata": {},
     "output_type": "execute_result"
    }
   ],
   "source": [
    "## String Array\n",
    "books = np.array(['Python for Data Science','Intro to Machine Learning','Intro to Deep Learning'])\n",
    "\n",
    "print(books)  ## Printing the array\n",
    "type(books)   ## Printing the Type "
   ]
  },
  {
   "cell_type": "markdown",
   "id": "listed-rachel",
   "metadata": {},
   "source": [
    "**random()** is used to create random numbers.  It will create the random numbers from [0.0, 1.0]."
   ]
  },
  {
   "cell_type": "code",
   "execution_count": 4,
   "id": "electric-hayes",
   "metadata": {},
   "outputs": [
    {
     "data": {
      "text/plain": [
       "array([0.85177615, 0.75433646, 0.02308035, 0.0963214 , 0.21433043,\n",
       "       0.93994086, 0.75343687, 0.80829292, 0.52594991, 0.71700783])"
      ]
     },
     "execution_count": 4,
     "metadata": {},
     "output_type": "execute_result"
    }
   ],
   "source": [
    "## Creating 20 random numbers.  It will create 1-d array.\n",
    "np.random.random(size=10)"
   ]
  },
  {
   "cell_type": "markdown",
   "id": "efficient-christianity",
   "metadata": {},
   "source": [
    "**rand()** is used to create random numbers between 0 and 1 in a given shape."
   ]
  },
  {
   "cell_type": "code",
   "execution_count": 6,
   "id": "dying-endorsement",
   "metadata": {},
   "outputs": [
    {
     "name": "stdout",
     "output_type": "stream",
     "text": [
      "[[0.77850307 0.76480494 0.54416206]\n",
      " [0.29286049 0.69049545 0.04370611]\n",
      " [0.06614182 0.20875652 0.77488169]]\n"
     ]
    },
    {
     "data": {
      "text/plain": [
       "0.23260120145969643"
      ]
     },
     "execution_count": 6,
     "metadata": {},
     "output_type": "execute_result"
    }
   ],
   "source": [
    "## Creating array using rand()\n",
    "print(np.random.rand(3,3))\n",
    "\n",
    "## To generate a single random number\n",
    "np.random.rand()"
   ]
  },
  {
   "cell_type": "markdown",
   "id": "soviet-jungle",
   "metadata": {},
   "source": [
    "**randint()** is used to create random integer numbers from the given range."
   ]
  },
  {
   "cell_type": "code",
   "execution_count": 8,
   "id": "american-allah",
   "metadata": {},
   "outputs": [
    {
     "name": "stdout",
     "output_type": "stream",
     "text": [
      "34\n"
     ]
    },
    {
     "data": {
      "text/plain": [
       "array([52,  8, 63, 99, 64, 18, 44, 95, 50, 79,  6, 26, 81, 84, 67, 90, 72,\n",
       "       66, 33, 56, 81, 74, 27, 90, 82])"
      ]
     },
     "execution_count": 8,
     "metadata": {},
     "output_type": "execute_result"
    }
   ],
   "source": [
    "## Generating single random number\n",
    "print(np.random.randint(10,100))\n",
    "\n",
    "## Creating ramdom integers of size 25\n",
    "np.random.randint(1,100,25)"
   ]
  },
  {
   "cell_type": "raw",
   "id": "unlimited-turkish",
   "metadata": {},
   "source": [
    "**numpy.arange()** is also used to create sequence of  numbers.\n",
    "**numpy.arange(start, stop, step, dtype)**"
   ]
  },
  {
   "cell_type": "code",
   "execution_count": 20,
   "id": "opened-modeling",
   "metadata": {},
   "outputs": [
    {
     "name": "stdout",
     "output_type": "stream",
     "text": [
      "[ 1  3  5  7  9 11 13 15 17 19 21 23 25 27 29 31 33 35 37 39 41 43 45 47\n",
      " 49 51 53 55 57 59 61 63 65 67 69 71 73 75 77 79 81 83 85 87 89 91 93 95\n",
      " 97 99]\n"
     ]
    },
    {
     "data": {
      "text/plain": [
       "array([ 0,  2,  4,  6,  8, 10, 12, 14, 16, 18, 20, 22, 24, 26, 28, 30, 32,\n",
       "       34, 36, 38, 40, 42, 44, 46, 48, 50, 52, 54, 56, 58, 60, 62, 64, 66,\n",
       "       68, 70, 72, 74, 76, 78, 80, 82, 84, 86, 88, 90, 92, 94, 96, 98])"
      ]
     },
     "execution_count": 20,
     "metadata": {},
     "output_type": "execute_result"
    }
   ],
   "source": [
    "## Creating Odd numbers\n",
    "print(np.arange(1,100,2,int))\n",
    "\n",
    "## Creating even numbers\n",
    "np.arange(0,100,2)"
   ]
  },
  {
   "cell_type": "markdown",
   "id": "excellent-methodology",
   "metadata": {},
   "source": [
    "To create evenly spaced numbers in a given range, we can use linspace function."
   ]
  },
  {
   "cell_type": "code",
   "execution_count": 16,
   "id": "public-robinson",
   "metadata": {},
   "outputs": [
    {
     "name": "stdout",
     "output_type": "stream",
     "text": [
      "[  1.  12.  23.  34.  45.  56.  67.  78.  89. 100.]\n",
      "[0. 0. 0. 0. 0. 0. 0. 0. 0. 0.]\n",
      "[1. 1. 1. 1. 1. 1. 1. 1. 1. 1.]\n"
     ]
    }
   ],
   "source": [
    "## Creating evenly spaced numbers using linspace\n",
    "print(np.linspace(1, 100, 10))\n",
    "\n",
    "## Creating zero array\n",
    "print(np.zeros(10))\n",
    "\n",
    "## Creating 1 arragy\n",
    "print(np.ones(10))"
   ]
  },
  {
   "cell_type": "code",
   "execution_count": 18,
   "id": "diverse-share",
   "metadata": {},
   "outputs": [
    {
     "data": {
      "text/plain": [
       "19.8"
      ]
     },
     "execution_count": 18,
     "metadata": {},
     "output_type": "execute_result"
    }
   ],
   "source": [
    "(100-1)/(6-1)"
   ]
  },
  {
   "cell_type": "code",
   "execution_count": 19,
   "id": "loose-antigua",
   "metadata": {},
   "outputs": [
    {
     "name": "stdout",
     "output_type": "stream",
     "text": [
      "[[         0          1          0]\n",
      " [ 757935405        956          0]\n",
      " [       768         12 1701995880]]\n"
     ]
    }
   ],
   "source": [
    "## Creating arbitrary 3 x 3 array using empty\n",
    "print(np.empty((3,3), dtype=int))\n",
    "\n"
   ]
  },
  {
   "cell_type": "code",
   "execution_count": 20,
   "id": "dominican-board",
   "metadata": {},
   "outputs": [
    {
     "name": "stdout",
     "output_type": "stream",
     "text": [
      "[[11 11 11]\n",
      " [11 11 11]\n",
      " [11 11 11]]\n"
     ]
    }
   ],
   "source": [
    "## Creating 3 x 3 matrix using fill_value\n",
    "print(np.full((3,3),fill_value = 11))"
   ]
  },
  {
   "cell_type": "code",
   "execution_count": null,
   "id": "super-bulletin",
   "metadata": {},
   "outputs": [],
   "source": [
    "## Creating an identity matrix\n",
    "print(np.identity(3))"
   ]
  },
  {
   "cell_type": "markdown",
   "id": "brief-minimum",
   "metadata": {},
   "source": [
    "### Array Attributes"
   ]
  },
  {
   "cell_type": "code",
   "execution_count": 21,
   "id": "spectacular-romance",
   "metadata": {},
   "outputs": [
    {
     "name": "stdout",
     "output_type": "stream",
     "text": [
      "[['Python for Data science' 'Intro to Deep Learning' 'Python Handbook']\n",
      " ['35' '55' '20']]\n",
      "The shape of the array is :  (2, 3)\n",
      "The number of elements in the array is :  6\n",
      "The data type of the array is :  float64\n",
      "The dimension of the array is :  2\n"
     ]
    }
   ],
   "source": [
    "## Creating an array with books and its prices\n",
    "books = np.array([('Python for Data science','Intro to Deep Learning','Python Handbook'),(35,55,20)])\n",
    "\n",
    "print(books)\n",
    "\n",
    "## Printing the shape of the array\n",
    "print(\"The shape of the array is : \",books.shape)\n",
    "\n",
    "## Printing the size of the array\n",
    "print(\"The number of elements in the array is : \",books.size)\n",
    "\n",
    "books = np.array([(1.5, 2.5,4.6),(7.9,8,9.0)])\n",
    "\n",
    "## Printing the data type of the array\n",
    "print(\"The data type of the array is : \",books.dtype)\n",
    "\n",
    "## Printing the dimension of the array\n",
    "print(\"The dimension of the array is : \",books.ndim)"
   ]
  },
  {
   "cell_type": "markdown",
   "id": "closing-rolling",
   "metadata": {},
   "source": [
    "### Array Operations"
   ]
  },
  {
   "cell_type": "code",
   "execution_count": 74,
   "id": "considerable-consultancy",
   "metadata": {},
   "outputs": [
    {
     "name": "stdout",
     "output_type": "stream",
     "text": [
      "Sum of arrays :  [ 9  9  7 11]\n",
      "Odd array - Even Array :  [-7 -3  3  3]\n",
      "Odd array multiplied by 5 : [ 5 15 25 35]\n"
     ]
    }
   ],
   "source": [
    "## Creating odd and even number arrays\n",
    "oddnumber = np.array([1, 3, 5, 7])\n",
    "evennumber = np.array([8,6,2,4])\n",
    "\n",
    "## Adding two arrays\n",
    "sum = oddnumber + evennumber\n",
    "print(\"Sum of arrays : \", sum)\n",
    "\n",
    "## Substracting even array from odd array\n",
    "sub = oddnumber - evennumber\n",
    "print(\"Odd array - Even Array : \", sub)\n",
    "\n",
    "## Multiplying each element of odd array by 5\n",
    "print(\"Odd array multiplied by 5 :\", oddnumber * 5)"
   ]
  },
  {
   "cell_type": "code",
   "execution_count": 81,
   "id": "amazing-senegal",
   "metadata": {},
   "outputs": [
    {
     "name": "stdout",
     "output_type": "stream",
     "text": [
      "[[1 2 4]\n",
      " [3 5 2]]\n",
      "[[3 1]\n",
      " [7 2]\n",
      " [4 5]]\n",
      "\n",
      " Matrix multiplication : \n",
      "\n",
      " [[33 25]\n",
      " [52 23]]\n"
     ]
    }
   ],
   "source": [
    "## Matrix Multiplication\n",
    "n1 = np.array([[1, 2, 4],[3,5,2]])\n",
    "n2 = np.array([[3, 1],[7,2],[4,5]])\n",
    "\n",
    "print(n1)\n",
    "print(n2)\n",
    "\n",
    "prod = n1.dot(n2)\n",
    "print(\"\\n Matrix multiplication : \\n\\n\",prod)"
   ]
  },
  {
   "cell_type": "code",
   "execution_count": 82,
   "id": "supported-increase",
   "metadata": {},
   "outputs": [
    {
     "name": "stdout",
     "output_type": "stream",
     "text": [
      "[[1 2 4]\n",
      " [3 5 2]]\n",
      "[[3 1 7]\n",
      " [2 4 5]]\n",
      "\n",
      "Elementwise multiplication : \n",
      "\n",
      " [[ 3  2 28]\n",
      " [ 6 20 10]]\n"
     ]
    }
   ],
   "source": [
    "## Element wise multiplication\n",
    "n1 = np.array([[1, 2, 4],[3,5,2]])\n",
    "n2 = np.array([[3, 1, 7],[2,4,5]])\n",
    "\n",
    "print(n1)\n",
    "print(n2)\n",
    "\n",
    "prod = n1 * n2\n",
    "print(\"\\nElementwise multiplication : \\n\\n\",prod)"
   ]
  },
  {
   "cell_type": "code",
   "execution_count": 23,
   "id": "together-harbor",
   "metadata": {},
   "outputs": [
    {
     "name": "stdout",
     "output_type": "stream",
     "text": [
      "[[1 2 4]\n",
      " [3 5 2]]\n",
      "[[3 1]\n",
      " [2 4]]\n"
     ]
    },
    {
     "ename": "ValueError",
     "evalue": "operands could not be broadcast together with shapes (2,3) (2,2) ",
     "output_type": "error",
     "traceback": [
      "\u001b[1;31m---------------------------------------------------------------------------\u001b[0m",
      "\u001b[1;31mValueError\u001b[0m                                Traceback (most recent call last)",
      "\u001b[1;32m<ipython-input-23-5dd61d7e328a>\u001b[0m in \u001b[0;36m<module>\u001b[1;34m\u001b[0m\n\u001b[0;32m      7\u001b[0m \u001b[0mprint\u001b[0m\u001b[1;33m(\u001b[0m\u001b[0mn2\u001b[0m\u001b[1;33m)\u001b[0m\u001b[1;33m\u001b[0m\u001b[1;33m\u001b[0m\u001b[0m\n\u001b[0;32m      8\u001b[0m \u001b[1;33m\u001b[0m\u001b[0m\n\u001b[1;32m----> 9\u001b[1;33m \u001b[0mprint\u001b[0m\u001b[1;33m(\u001b[0m\u001b[0mn1\u001b[0m \u001b[1;33m*\u001b[0m \u001b[0mn2\u001b[0m\u001b[1;33m)\u001b[0m\u001b[1;33m\u001b[0m\u001b[1;33m\u001b[0m\u001b[0m\n\u001b[0m",
      "\u001b[1;31mValueError\u001b[0m: operands could not be broadcast together with shapes (2,3) (2,2) "
     ]
    }
   ],
   "source": [
    "## Element wise multiplication\n",
    "n1 = np.array([[1, 2, 4],[3,5,2]])\n",
    "n2 = np.array([[3, 1],[2,4]])\n",
    "\n",
    "\n",
    "print(n1)\n",
    "print(n2)\n",
    "\n",
    "print(n1 * n2)"
   ]
  },
  {
   "cell_type": "code",
   "execution_count": 36,
   "id": "governmental-pound",
   "metadata": {},
   "outputs": [
    {
     "name": "stdout",
     "output_type": "stream",
     "text": [
      "[26 19 24 27 27 22 19 19 24 22 25 24 30 22 26 31]\n",
      "[19 22 22 22]\n"
     ]
    },
    {
     "data": {
      "text/plain": [
       "array([[26, 19, 24, 27],\n",
       "       [27, 22, 19, 19],\n",
       "       [24, 22, 25, 24],\n",
       "       [30, 22, 26, 31]])"
      ]
     },
     "execution_count": 36,
     "metadata": {},
     "output_type": "execute_result"
    }
   ],
   "source": [
    "## Creating a 1D array\n",
    "agearray = np.random.randint(18,35,16)\n",
    "print(agearray)\n",
    "\n",
    "print(agearray[1::4])\n",
    "\n",
    "## Convering 1D array to 3x3 array\n",
    "reshaped_array = agearray.reshape(4,4)\n",
    "reshaped_array"
   ]
  },
  {
   "cell_type": "code",
   "execution_count": 34,
   "id": "sharp-millennium",
   "metadata": {},
   "outputs": [
    {
     "data": {
      "text/plain": [
       "array([26, 34, 25, 22])"
      ]
     },
     "execution_count": 34,
     "metadata": {},
     "output_type": "execute_result"
    }
   ],
   "source": [
    "reshaped_array[1]"
   ]
  },
  {
   "cell_type": "markdown",
   "id": "solid-jaguar",
   "metadata": {},
   "source": [
    "Simple Statistical analysis"
   ]
  },
  {
   "cell_type": "code",
   "execution_count": 88,
   "id": "naval-pickup",
   "metadata": {},
   "outputs": [
    {
     "name": "stdout",
     "output_type": "stream",
     "text": [
      "[100000  75000  24000  15000  45000  16000]\n",
      "\n",
      "The minimum Salary is :  15000\n",
      "\n",
      "The maximum Salary is :  100000\n",
      "\n",
      "The variance in Salary is :  1017138888.8888888\n",
      "\n",
      "The Standard Deviation in Salary is :  31892.61495846474\n"
     ]
    }
   ],
   "source": [
    "## Creating one dimentinal arrary\n",
    "salaries = np.array([100000,75000,24000,15000,45000,16000])\n",
    "\n",
    "## Printing the salaries array\n",
    "print(salaries)\n",
    "\n",
    "## Finding the minimum value\n",
    "print(\"\\nThe minimum Salary is : \", salaries.min())\n",
    "\n",
    "## Finding the minimum value\n",
    "print(\"\\nThe maximum Salary is : \", salaries.max())\n",
    "\n",
    "## The variance in salaries\n",
    "print(\"\\nThe variance in Salary is : \", salaries.var())\n",
    "\n",
    "## The variance in salaries\n",
    "print(\"\\nThe Standard Deviation in Salary is : \", salaries.std())"
   ]
  },
  {
   "cell_type": "code",
   "execution_count": 90,
   "id": "tender-reach",
   "metadata": {},
   "outputs": [
    {
     "name": "stdout",
     "output_type": "stream",
     "text": [
      "The area of squares are :  [100 529 225  64 441]\n"
     ]
    }
   ],
   "source": [
    "## More mathematical functions. np.square()\n",
    "\n",
    "## Creating an array of sides of square\n",
    "side_sq = np.array([10,23,15,8,21])\n",
    "\n",
    "## Printing the area of squares\n",
    "print(\"The area of squares are : \", np.square(side_sq))"
   ]
  },
  {
   "cell_type": "code",
   "execution_count": 92,
   "id": "attached-reggae",
   "metadata": {},
   "outputs": [
    {
     "name": "stdout",
     "output_type": "stream",
     "text": [
      "\n",
      "The volume of cube sides are :  [  27  125  343   64 1000]\n"
     ]
    }
   ],
   "source": [
    "## np.power()\n",
    "\n",
    "## Finding the volume of cubes\n",
    "cube_sides = np.array([3,5,7,4,10])\n",
    "\n",
    "## The volume of cube sides\n",
    "print(\"\\nThe volume of cube sides are : \", np.power(cube_sides, 3))"
   ]
  },
  {
   "cell_type": "code",
   "execution_count": 93,
   "id": "exact-prefix",
   "metadata": {},
   "outputs": [
    {
     "name": "stdout",
     "output_type": "stream",
     "text": [
      "The matrix is : \n",
      " [[1 2 3]\n",
      " [4 5 6]]\n",
      "The transposed matrix is : \n",
      " [[1 4]\n",
      " [2 5]\n",
      " [3 6]]\n"
     ]
    }
   ],
   "source": [
    "## np.transpose() reverses the order of the matrix.  Suppose if we have M x N, the transpose will change it to N x M\n",
    "\n",
    "## Creating 2 x 3 matrix\n",
    "matrix = np.array([(1, 2, 3),(4, 5, 6)])\n",
    "\n",
    "## Printing the matrix\n",
    "print(\"The matrix is : \\n\",matrix)\n",
    "\n",
    "## Printing the transpose of the matrix\n",
    "print(\"The transposed matrix is : \\n\", np.transpose(matrix))"
   ]
  },
  {
   "cell_type": "code",
   "execution_count": 94,
   "id": "smaller-queens",
   "metadata": {},
   "outputs": [
    {
     "name": "stdout",
     "output_type": "stream",
     "text": [
      "The concatenated array \n",
      " [ 23   4  76  21  55 150 267  35  98 256 750]\n"
     ]
    }
   ],
   "source": [
    "## Concatenating array\n",
    "a1 = np.array([23, 4, 76,21, 55])\n",
    "a2 = np.array([150, 267, 35, 98,256, 750])\n",
    "\n",
    "## Concatenating the array using concatenate()\n",
    "a1a2 = np.concatenate([a1, a2])\n",
    "\n",
    "## Printing the concatenated array\n",
    "print(\"The concatenated array \\n\",a1a2)"
   ]
  },
  {
   "cell_type": "code",
   "execution_count": 46,
   "id": "patient-monkey",
   "metadata": {},
   "outputs": [
    {
     "name": "stdout",
     "output_type": "stream",
     "text": [
      "[[1 2 3]\n",
      " [3 4 5]]\n",
      "[[ 2  4  6]\n",
      " [ 6  8 10]]\n",
      "[[  1   2   3]\n",
      " [  3 100   5]]\n"
     ]
    }
   ],
   "source": [
    "a1 = np.array([(1,2,3),(3,4,5)])\n",
    "a2 = a1 * 2\n",
    "print(a1)\n",
    "print(a2)\n",
    "np.concatenate([a1,a2])\n",
    "\n",
    "a1[1,1] = 100\n",
    "\n",
    "print(a1)"
   ]
  },
  {
   "cell_type": "code",
   "execution_count": 96,
   "id": "textile-assault",
   "metadata": {},
   "outputs": [
    {
     "name": "stdout",
     "output_type": "stream",
     "text": [
      "The concatenated 2D array\n",
      " [['James' '24']\n",
      " ['Smith' '21']\n",
      " ['Bob' '45']\n",
      " ['Amy' '21']\n",
      " ['Charles' '28']]\n"
     ]
    }
   ],
   "source": [
    "## Concatenating 2D array\n",
    "\n",
    "a1 = np.array([['James', 24], ['Smith',21], ['Bob',45]])\n",
    "a2 = np.array([['Amy',21],['Charles', 28]])\n",
    "\n",
    "## Concatenating the 2D array using concatenate()\n",
    "a1a2 = np.concatenate([a1, a2])   \n",
    "               \n",
    "## Printing the concatenated 2d Array\n",
    "print(\"The concatenated 2D array\\n\",a1a2)"
   ]
  },
  {
   "cell_type": "code",
   "execution_count": 103,
   "id": "fifth-serve",
   "metadata": {},
   "outputs": [
    {
     "name": "stdout",
     "output_type": "stream",
     "text": [
      "The 2D array \n",
      " [[150 267]\n",
      " [ 35  98]\n",
      " [256 750]]\n",
      "\n",
      "The flattened array \n",
      " [150 267  35  98 256 750]\n"
     ]
    }
   ],
   "source": [
    "## Using flatten() to convert multi dimentional array to a single dimention array\n",
    "a1 = np.array([[150, 267], [35, 98],[256, 750]])\n",
    "\n",
    "## Printing the array\n",
    "print(\"The 2D array \\n\", a1)\n",
    "\n",
    "## The flattened array\n",
    "print(\"\\nThe flattened array \\n\", np.ndarray.flatten(a1))"
   ]
  },
  {
   "cell_type": "code",
   "execution_count": 107,
   "id": "convertible-steam",
   "metadata": {},
   "outputs": [
    {
     "name": "stdout",
     "output_type": "stream",
     "text": [
      "The dimension of 'books' array is :  2 \n",
      "\n",
      "\n",
      "['Python for Data Science' 'Intro to Machine Learning'\n",
      " 'Intro to Deep Learning']\n",
      "['35' '51.5' '43']\n",
      "\n",
      "\n",
      "Printing each element in 2D array separately\n",
      "\n",
      "Python for Data Science\n",
      "Intro to Machine Learning\n",
      "Intro to Deep Learning\n",
      "35\n",
      "51.5\n",
      "43\n"
     ]
    }
   ],
   "source": [
    "## Books Array\n",
    "books = np.array([['Python for Data Science','Intro to Machine Learning','Intro to Deep Learning'],[35, 51.5, 43]])\n",
    "\n",
    "## Printing the dimension of Books array\n",
    "print(\"The dimension of 'books' array is : \",books.ndim,'\\n\\n')\n",
    "\n",
    "## We can iterate the array using for loop\n",
    "## Printing each element of the array using for loop\n",
    "for i in books:\n",
    "    print(i)\n",
    "    \n",
    "## Printing each element separately\n",
    "print(\"\\n\\nPrinting each element in 2D array separately\\n\")\n",
    "for i in books:\n",
    "    for j in i:\n",
    "        print(j)"
   ]
  },
  {
   "cell_type": "markdown",
   "id": "expensive-things",
   "metadata": {},
   "source": [
    "The Numpy arrays are faster than lists.  We can see through an example."
   ]
  },
  {
   "cell_type": "code",
   "execution_count": 47,
   "id": "occasional-grass",
   "metadata": {},
   "outputs": [
    {
     "name": "stdout",
     "output_type": "stream",
     "text": [
      "The time taken for processing lists :  0.12865495681762695 seconds\n"
     ]
    }
   ],
   "source": [
    "import time\n",
    "\n",
    "## Declaring size of an array and lists\n",
    "size = 1000000\n",
    "\n",
    "## Creating a lists\n",
    "l1 = range(size)\n",
    "l2 = range(size)\n",
    "\n",
    "starttime = time.time()\n",
    "resultlist = [(a * b) for a, b in zip(l1, l2)]\n",
    "\n",
    "## Calculating the time taken for processing lists\n",
    "print(\"The time taken for processing lists : \",(time.time() - starttime),'seconds')"
   ]
  },
  {
   "cell_type": "code",
   "execution_count": 48,
   "id": "respective-universe",
   "metadata": {},
   "outputs": [
    {
     "name": "stdout",
     "output_type": "stream",
     "text": [
      "The time taken for processing arrays :  0.0019960403442382812 seconds\n"
     ]
    }
   ],
   "source": [
    "## Creating 2 arrays\n",
    "a1 = np.arange(size)\n",
    "a2 = np.arange(size)\n",
    "\n",
    "starttime = time.time()\n",
    "resultarray = a1 * a2\n",
    "\n",
    "## Calculating the time taken for processing array\n",
    "print(\"The time taken for processing arrays : \",(time.time() - starttime),'seconds')"
   ]
  },
  {
   "cell_type": "code",
   "execution_count": null,
   "id": "adult-request",
   "metadata": {},
   "outputs": [],
   "source": []
  }
 ],
 "metadata": {
  "kernelspec": {
   "display_name": "Python 3",
   "language": "python",
   "name": "python3"
  },
  "language_info": {
   "codemirror_mode": {
    "name": "ipython",
    "version": 3
   },
   "file_extension": ".py",
   "mimetype": "text/x-python",
   "name": "python",
   "nbconvert_exporter": "python",
   "pygments_lexer": "ipython3",
   "version": "3.7.4"
  }
 },
 "nbformat": 4,
 "nbformat_minor": 5
}
